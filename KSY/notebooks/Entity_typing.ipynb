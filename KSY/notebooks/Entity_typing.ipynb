{
 "cells": [
  {
   "cell_type": "code",
   "execution_count": 162,
   "id": "b77ad146-c16c-4c9b-9fd4-16d72522b2d8",
   "metadata": {},
   "outputs": [],
   "source": [
    "import pickle as pickle\n",
    "import os\n",
    "import pandas as pd\n",
    "import torch\n",
    "\n",
    "# additional\n",
    "from collections import defaultdict\n",
    "import numpy as np\n",
    "# \n",
    "import sys\n",
    "sys.path.append('/opt/ml/level2-klue-level2-nlp-03/KSY')\n",
    "from load_data import *\n",
    "label_list = ['no_relation', 'org:top_members/employees', 'org:members',\n",
    "                  'org:product', 'per:title', 'org:alternate_names',\n",
    "                  'per:employee_of', 'org:place_of_headquarters', 'per:product',\n",
    "                  'org:number_of_employees/members', 'per:children',\n",
    "                  'per:place_of_residence', 'per:alternate_names',\n",
    "                  'per:other_family', 'per:colleagues', 'per:origin', 'per:siblings',\n",
    "                  'per:spouse', 'org:founded', 'org:political/religious_affiliation',\n",
    "                  'org:member_of', 'per:parents', 'org:dissolved',\n",
    "                  'per:schools_attended', 'per:date_of_death', 'per:date_of_birth',\n",
    "                  'per:place_of_birth', 'per:place_of_death', 'org:founded_by',\n",
    "                  'per:religion']"
   ]
  },
  {
   "cell_type": "code",
   "execution_count": 163,
   "id": "80d96589-6731-4643-a1c8-0081d73fea20",
   "metadata": {},
   "outputs": [
    {
     "data": {
      "text/html": [
       "<div>\n",
       "<style scoped>\n",
       "    .dataframe tbody tr th:only-of-type {\n",
       "        vertical-align: middle;\n",
       "    }\n",
       "\n",
       "    .dataframe tbody tr th {\n",
       "        vertical-align: top;\n",
       "    }\n",
       "\n",
       "    .dataframe thead th {\n",
       "        text-align: right;\n",
       "    }\n",
       "</style>\n",
       "<table border=\"1\" class=\"dataframe\">\n",
       "  <thead>\n",
       "    <tr style=\"text-align: right;\">\n",
       "      <th></th>\n",
       "      <th>id</th>\n",
       "      <th>sentence</th>\n",
       "      <th>subject_entity</th>\n",
       "      <th>object_entity</th>\n",
       "      <th>label</th>\n",
       "    </tr>\n",
       "  </thead>\n",
       "  <tbody>\n",
       "    <tr>\n",
       "      <th>0</th>\n",
       "      <td>0</td>\n",
       "      <td>〈Something〉는 조지 해리슨이 쓰고 비틀즈가 1969년 앨범 《Abbey R...</td>\n",
       "      <td>'비틀즈'</td>\n",
       "      <td>'조지 해리슨'</td>\n",
       "      <td>no_relation</td>\n",
       "    </tr>\n",
       "    <tr>\n",
       "      <th>1</th>\n",
       "      <td>1</td>\n",
       "      <td>호남이 기반인 바른미래당·대안신당·민주평화당이 우여곡절 끝에 합당해 민생당(가칭)으...</td>\n",
       "      <td>'민주평화당'</td>\n",
       "      <td>'대안신당'</td>\n",
       "      <td>no_relation</td>\n",
       "    </tr>\n",
       "    <tr>\n",
       "      <th>2</th>\n",
       "      <td>2</td>\n",
       "      <td>K리그2에서 성적 1위를 달리고 있는 광주FC는 지난 26일 한국프로축구연맹으로부터...</td>\n",
       "      <td>'광주FC'</td>\n",
       "      <td>'한국프로축구연맹'</td>\n",
       "      <td>org:member_of</td>\n",
       "    </tr>\n",
       "    <tr>\n",
       "      <th>3</th>\n",
       "      <td>3</td>\n",
       "      <td>균일가 생활용품점 (주)아성다이소(대표 박정부)는 코로나19 바이러스로 어려움을 겪...</td>\n",
       "      <td>'아성다이소'</td>\n",
       "      <td>'박정부'</td>\n",
       "      <td>org:top_members/employees</td>\n",
       "    </tr>\n",
       "    <tr>\n",
       "      <th>4</th>\n",
       "      <td>4</td>\n",
       "      <td>1967년 프로 야구 드래프트 1순위로 요미우리 자이언츠에게 입단하면서 등번호는 8...</td>\n",
       "      <td>'요미우리 자이언츠'</td>\n",
       "      <td>'1967'</td>\n",
       "      <td>no_relation</td>\n",
       "    </tr>\n",
       "  </tbody>\n",
       "</table>\n",
       "</div>"
      ],
      "text/plain": [
       "   id                                           sentence subject_entity  \\\n",
       "0   0  〈Something〉는 조지 해리슨이 쓰고 비틀즈가 1969년 앨범 《Abbey R...          '비틀즈'   \n",
       "1   1  호남이 기반인 바른미래당·대안신당·민주평화당이 우여곡절 끝에 합당해 민생당(가칭)으...        '민주평화당'   \n",
       "2   2  K리그2에서 성적 1위를 달리고 있는 광주FC는 지난 26일 한국프로축구연맹으로부터...         '광주FC'   \n",
       "3   3  균일가 생활용품점 (주)아성다이소(대표 박정부)는 코로나19 바이러스로 어려움을 겪...        '아성다이소'   \n",
       "4   4  1967년 프로 야구 드래프트 1순위로 요미우리 자이언츠에게 입단하면서 등번호는 8...    '요미우리 자이언츠'   \n",
       "\n",
       "  object_entity                      label  \n",
       "0      '조지 해리슨'                no_relation  \n",
       "1        '대안신당'                no_relation  \n",
       "2    '한국프로축구연맹'              org:member_of  \n",
       "3         '박정부'  org:top_members/employees  \n",
       "4        '1967'                no_relation  "
      ]
     },
     "execution_count": 163,
     "metadata": {},
     "output_type": "execute_result"
    }
   ],
   "source": [
    "train_data_dir = \"/opt/ml/level2-klue-level2-nlp-03/baseline/dataset/train/train.csv\"\n",
    "# original type data\n",
    "train_dataset = load_data(train_data_dir)\n",
    "train_dataset.head()"
   ]
  },
  {
   "cell_type": "markdown",
   "id": "e4085e9e-c242-4ebb-81e2-f5283845597b",
   "metadata": {},
   "source": [
    "### Sentence에 Entity typing v0.1"
   ]
  },
  {
   "cell_type": "code",
   "execution_count": 11,
   "id": "009f3c79-452a-4d09-9fcd-8d85bedf2150",
   "metadata": {},
   "outputs": [],
   "source": [
    "def en_load_data(dataset_dir):\n",
    "  \"\"\" csv 파일을 경로에 맡게 불러 옵니다. \"\"\"\n",
    "  pd_dataset = pd.read_csv(dataset_dir)\n",
    "  dataset = preprocessing_dataset(pd_dataset)"
   ]
  },
  {
   "cell_type": "code",
   "execution_count": 14,
   "id": "aa7ba097-77ee-4f52-9f2c-55bb139c7a12",
   "metadata": {},
   "outputs": [],
   "source": [
    "en_train_data_dir = \"./data/en_all_train.csv\"\n",
    "en_train_pd = pd.read_csv(en_train_data_dir)"
   ]
  },
  {
   "cell_type": "code",
   "execution_count": 15,
   "id": "52fb631c-7446-4a9b-a9bc-88a40455b793",
   "metadata": {},
   "outputs": [
    {
     "data": {
      "text/html": [
       "<div>\n",
       "<style scoped>\n",
       "    .dataframe tbody tr th:only-of-type {\n",
       "        vertical-align: middle;\n",
       "    }\n",
       "\n",
       "    .dataframe tbody tr th {\n",
       "        vertical-align: top;\n",
       "    }\n",
       "\n",
       "    .dataframe thead th {\n",
       "        text-align: right;\n",
       "    }\n",
       "</style>\n",
       "<table border=\"1\" class=\"dataframe\">\n",
       "  <thead>\n",
       "    <tr style=\"text-align: right;\">\n",
       "      <th></th>\n",
       "      <th>id</th>\n",
       "      <th>sentence</th>\n",
       "      <th>subject_entity</th>\n",
       "      <th>object_entity</th>\n",
       "      <th>label</th>\n",
       "      <th>source</th>\n",
       "      <th>en_trans_sentence</th>\n",
       "    </tr>\n",
       "  </thead>\n",
       "  <tbody>\n",
       "    <tr>\n",
       "      <th>0</th>\n",
       "      <td>0</td>\n",
       "      <td>〈Something〉는 조지 해리슨이 쓰고 비틀즈가 1969년 앨범 《Abbey R...</td>\n",
       "      <td>{'word': '비틀즈', 'start_idx': 24, 'end_idx': 26...</td>\n",
       "      <td>{'word': '조지 해리슨', 'start_idx': 13, 'end_idx':...</td>\n",
       "      <td>no_relation</td>\n",
       "      <td>wikipedia</td>\n",
       "      <td>\"Something\"은 조지 해리슨가 작곡하고 비틀즈의 1969년 앨범 Abbey ...</td>\n",
       "    </tr>\n",
       "    <tr>\n",
       "      <th>1</th>\n",
       "      <td>1</td>\n",
       "      <td>호남이 기반인 바른미래당·대안신당·민주평화당이 우여곡절 끝에 합당해 민생당(가칭)으...</td>\n",
       "      <td>{'word': '민주평화당', 'start_idx': 19, 'end_idx': ...</td>\n",
       "      <td>{'word': '대안신당', 'start_idx': 14, 'end_idx': 1...</td>\n",
       "      <td>no_relation</td>\n",
       "      <td>wikitree</td>\n",
       "      <td>호남 기반 바른미래당·대안신당·민주평화당은 우여곡절 끝에 민생당(가칭)으로 다시 태...</td>\n",
       "    </tr>\n",
       "    <tr>\n",
       "      <th>2</th>\n",
       "      <td>2</td>\n",
       "      <td>K리그2에서 성적 1위를 달리고 있는 광주FC는 지난 26일 한국프로축구연맹으로부터...</td>\n",
       "      <td>{'word': '광주FC', 'start_idx': 21, 'end_idx': 2...</td>\n",
       "      <td>{'word': '한국프로축구연맹', 'start_idx': 34, 'end_idx...</td>\n",
       "      <td>org:member_of</td>\n",
       "      <td>wikitree</td>\n",
       "      <td>K리그2 1위를 달리고 있는 광주FC은 26일 한국프로축구연맹로부터 '풀스타디움상'...</td>\n",
       "    </tr>\n",
       "    <tr>\n",
       "      <th>3</th>\n",
       "      <td>3</td>\n",
       "      <td>균일가 생활용품점 (주)아성다이소(대표 박정부)는 코로나19 바이러스로 어려움을 겪...</td>\n",
       "      <td>{'word': '아성다이소', 'start_idx': 13, 'end_idx': ...</td>\n",
       "      <td>{'word': '박정부', 'start_idx': 22, 'end_idx': 24...</td>\n",
       "      <td>org:top_members/employees</td>\n",
       "      <td>wikitree</td>\n",
       "      <td>흥공가생활용품점아성다이소(대표 박정부)은 코로나19 바이러스로 어려움을 겪고 있는 ...</td>\n",
       "    </tr>\n",
       "    <tr>\n",
       "      <th>4</th>\n",
       "      <td>4</td>\n",
       "      <td>1967년 프로 야구 드래프트 1순위로 요미우리 자이언츠에게 입단하면서 등번호는 8...</td>\n",
       "      <td>{'word': '요미우리 자이언츠', 'start_idx': 22, 'end_id...</td>\n",
       "      <td>{'word': '1967', 'start_idx': 0, 'end_idx': 3,...</td>\n",
       "      <td>no_relation</td>\n",
       "      <td>wikipedia</td>\n",
       "      <td>1967 프로야구 드래프트 1순위로 요미우리 자이언츠와 함께 1967에 합류한 후 ...</td>\n",
       "    </tr>\n",
       "  </tbody>\n",
       "</table>\n",
       "</div>"
      ],
      "text/plain": [
       "   id                                           sentence  \\\n",
       "0   0  〈Something〉는 조지 해리슨이 쓰고 비틀즈가 1969년 앨범 《Abbey R...   \n",
       "1   1  호남이 기반인 바른미래당·대안신당·민주평화당이 우여곡절 끝에 합당해 민생당(가칭)으...   \n",
       "2   2  K리그2에서 성적 1위를 달리고 있는 광주FC는 지난 26일 한국프로축구연맹으로부터...   \n",
       "3   3  균일가 생활용품점 (주)아성다이소(대표 박정부)는 코로나19 바이러스로 어려움을 겪...   \n",
       "4   4  1967년 프로 야구 드래프트 1순위로 요미우리 자이언츠에게 입단하면서 등번호는 8...   \n",
       "\n",
       "                                      subject_entity  \\\n",
       "0  {'word': '비틀즈', 'start_idx': 24, 'end_idx': 26...   \n",
       "1  {'word': '민주평화당', 'start_idx': 19, 'end_idx': ...   \n",
       "2  {'word': '광주FC', 'start_idx': 21, 'end_idx': 2...   \n",
       "3  {'word': '아성다이소', 'start_idx': 13, 'end_idx': ...   \n",
       "4  {'word': '요미우리 자이언츠', 'start_idx': 22, 'end_id...   \n",
       "\n",
       "                                       object_entity  \\\n",
       "0  {'word': '조지 해리슨', 'start_idx': 13, 'end_idx':...   \n",
       "1  {'word': '대안신당', 'start_idx': 14, 'end_idx': 1...   \n",
       "2  {'word': '한국프로축구연맹', 'start_idx': 34, 'end_idx...   \n",
       "3  {'word': '박정부', 'start_idx': 22, 'end_idx': 24...   \n",
       "4  {'word': '1967', 'start_idx': 0, 'end_idx': 3,...   \n",
       "\n",
       "                       label     source  \\\n",
       "0                no_relation  wikipedia   \n",
       "1                no_relation   wikitree   \n",
       "2              org:member_of   wikitree   \n",
       "3  org:top_members/employees   wikitree   \n",
       "4                no_relation  wikipedia   \n",
       "\n",
       "                                   en_trans_sentence  \n",
       "0  \"Something\"은 조지 해리슨가 작곡하고 비틀즈의 1969년 앨범 Abbey ...  \n",
       "1  호남 기반 바른미래당·대안신당·민주평화당은 우여곡절 끝에 민생당(가칭)으로 다시 태...  \n",
       "2  K리그2 1위를 달리고 있는 광주FC은 26일 한국프로축구연맹로부터 '풀스타디움상'...  \n",
       "3  흥공가생활용품점아성다이소(대표 박정부)은 코로나19 바이러스로 어려움을 겪고 있는 ...  \n",
       "4  1967 프로야구 드래프트 1순위로 요미우리 자이언츠와 함께 1967에 합류한 후 ...  "
      ]
     },
     "execution_count": 15,
     "metadata": {},
     "output_type": "execute_result"
    }
   ],
   "source": [
    "en_train_pd.head()"
   ]
  },
  {
   "cell_type": "code",
   "execution_count": 164,
   "id": "20cda6fc-cab0-42b5-a0ff-069fe3534b01",
   "metadata": {},
   "outputs": [
    {
     "name": "stdout",
     "output_type": "stream",
     "text": [
      "subj {'word': '비틀즈', 'start_idx': 24, 'end_idx': 26, 'type': 'ORG'}\n",
      "obj {'word': '조지 해리슨', 'start_idx': 13, 'end_idx': 18, 'type': 'PER'}\n",
      "〈Something〉는 조지 해리슨이 쓰고 비틀즈가 1969년 앨범 《Abbey Road》에 담은 노래다.\n"
     ]
    }
   ],
   "source": [
    "train_data_dir = \"/opt/ml/level2-klue-level2-nlp-03/baseline/dataset/train/train.csv\"\n",
    "pd_dataset = pd.read_csv(train_data_dir)\n",
    "# start_idx부터 글자 시작, end_idx는 마지막 글자\n",
    "subj = eval(pd_dataset.iloc[0].subject_entity)\n",
    "print('subj',subj)\n",
    "obj = eval(pd_dataset.iloc[0].object_entity)\n",
    "print('obj',obj)\n",
    "sents = pd_dataset.iloc[0].sentence\n",
    "print(sents)"
   ]
  },
  {
   "cell_type": "code",
   "execution_count": 52,
   "id": "64a91373-0b31-4f3b-bb83-8d1f4777d174",
   "metadata": {},
   "outputs": [
    {
     "name": "stdout",
     "output_type": "stream",
     "text": [
      "[E1]비틀즈[/E1] [E2]조지 해리슨[/E2]\n"
     ]
    }
   ],
   "source": [
    "# subj, obj 중에 뭐가 먼저 나오는지 알 수 없음   \n",
    "new_subj = '[E1]' + sents[subj['start_idx'] : subj['end_idx']+1] + '[/E1]'\n",
    "new_obj = '[E2]' + sents[obj['start_idx'] : obj['end_idx']+1] + '[/E2]'\n",
    "print(new_subj, new_obj)"
   ]
  },
  {
   "cell_type": "code",
   "execution_count": 49,
   "id": "22d641ea-e53f-4192-84a4-45b8a347672e",
   "metadata": {},
   "outputs": [
    {
     "name": "stdout",
     "output_type": "stream",
     "text": [
      "〈Something〉는 [E2]조지 해리슨[/E2]이 쓰고 [E1]비틀즈[/E1]가 1969년 앨범 《Abbey Road》에 담은 노래다.\n"
     ]
    }
   ],
   "source": [
    "if subj['start_idx'] > obj['start_idx']:\n",
    "    temp = sents[:obj['start_idx']] + new_obj + sents[obj['end_idx']+1 : subj['start_idx']] + new_subj + sents[subj['end_idx']+1 :]\n",
    "print(temp)"
   ]
  },
  {
   "cell_type": "code",
   "execution_count": 54,
   "id": "cb3433b9-2acb-4031-88db-76d1cef93532",
   "metadata": {},
   "outputs": [
    {
     "name": "stdout",
     "output_type": "stream",
     "text": [
      "subj {'word': '광주FC', 'start_idx': 21, 'end_idx': 24, 'type': 'ORG'}\n",
      "obj {'word': '한국프로축구연맹', 'start_idx': 34, 'end_idx': 41, 'type': 'ORG'}\n",
      "K리그2에서 성적 1위를 달리고 있는 광주FC는 지난 26일 한국프로축구연맹으로부터 관중 유치 성과와 마케팅 성과를 인정받아 ‘풀 스타디움상’과 ‘플러스 스타디움상’을 수상했다.\n"
     ]
    }
   ],
   "source": [
    "subj = eval(pd_dataset.iloc[2].subject_entity)\n",
    "print('subj',subj)\n",
    "obj = eval(pd_dataset.iloc[2].object_entity)\n",
    "print('obj',obj)\n",
    "sents = pd_dataset.iloc[2].sentence\n",
    "print(sents)"
   ]
  },
  {
   "cell_type": "code",
   "execution_count": null,
   "id": "a013d4a3-f53a-40e8-9891-d57041ffdb34",
   "metadata": {},
   "outputs": [],
   "source": []
  },
  {
   "cell_type": "code",
   "execution_count": 56,
   "id": "008333bf-0d97-453a-b167-bdad06a29637",
   "metadata": {},
   "outputs": [
    {
     "name": "stdout",
     "output_type": "stream",
     "text": [
      "K리그2에서 성적 1위를 달리고 있는 [E1]광주FC[/E1]는 지난 26일 [E2]한국프로축구연맹[/E2]으로부터 관중 유치 성과와 마케팅 성과를 인정받아 ‘풀 스타디움상’과 ‘플러스 스타디움상’을 수상했다.\n"
     ]
    }
   ],
   "source": [
    "new_subj = '[E1]' + sents[subj['start_idx'] : subj['end_idx']+1] + '[/E1]'\n",
    "new_obj = '[E2]' + sents[obj['start_idx'] : obj['end_idx']+1] + '[/E2]'\n",
    "if subj['start_idx'] < obj['start_idx']:\n",
    "    temp = sents[:subj['start_idx']] + new_subj + sents[subj['end_idx']+1 : obj['start_idx']] + new_obj + sents[obj['end_idx']+1 :]\n",
    "print(temp)"
   ]
  },
  {
   "cell_type": "code",
   "execution_count": 165,
   "id": "d1af1f9a-3d8b-49ee-a775-98a5efa9da83",
   "metadata": {},
   "outputs": [],
   "source": [
    "def preprocessing_ent_dataset(dataset):\n",
    "  # \"\"\" 처음 불러온 csv 파일에서 sentecen에 등장하고 start_idx, end_idx 를 갖는 subject, object를 marking.\"\"\"\n",
    "    subject_entity = []\n",
    "    object_entity = []\n",
    "    subject_type = []\n",
    "    object_type = []\n",
    "    # subject_entity : {'word':- , 'start_idx':-, 'end_idx':-}\n",
    "    for idx, (subj, obj, sents) in enumerate(zip(dataset['subject_entity'] ,dataset['object_entity'], dataset['sentence'])):\n",
    "        subj, obj = eval(subj), eval(obj)\n",
    "        new_subj = '[E1]' + sents[subj['start_idx'] : subj['end_idx']+1] + '[/E1]'\n",
    "        new_obj = '[E2]' + sents[obj['start_idx'] : obj['end_idx']+1] + '[/E2]'\n",
    "        if subj['start_idx'] >= obj['start_idx']:\n",
    "            temp = sents[:obj['start_idx']] + new_obj + sents[obj['end_idx']+1 : subj['start_idx']] + new_subj + sents[subj['end_idx']+1 :]\n",
    "        elif subj['start_idx'] < obj['start_idx']:\n",
    "            temp = sents[:subj['start_idx']] + new_subj + sents[subj['end_idx']+1 : obj['start_idx']] + new_obj + sents[obj['end_idx']+1 :]\n",
    "        \n",
    "        dataset['sentence'][idx] = temp\n",
    "        \n",
    "        subject_entity.append(subj['word'])\n",
    "        object_entity.append(obj['word'])\n",
    "        \n",
    "        subject_type.append(subj['type'])\n",
    "        object_type.append(obj['type'])\n",
    "\n",
    "    # print(len(dataset['id'], len(dataset['sentence']))\n",
    "    out_dataset = pd.DataFrame({'id':dataset['id'], 'sentence':dataset['sentence'],\n",
    "                                'subject_entity':subject_entity,'object_entity':object_entity,\n",
    "                                'subject_type':subject_type,'object_type':object_type,\n",
    "                                'label':dataset['label'],})\n",
    "    return out_dataset"
   ]
  },
  {
   "cell_type": "code",
   "execution_count": 103,
   "id": "a838754b-ab1b-43eb-8a02-baade5197d01",
   "metadata": {},
   "outputs": [],
   "source": [
    "def en_load_data(dataset_dir):\n",
    "  # \"\"\" csv 파일을 경로에 맡게 불러 옵니다. \"\"\"\n",
    "    pd_dataset = pd.read_csv(dataset_dir)\n",
    "    dataset = preprocessing_ent_dataset(pd_dataset)\n",
    "    return dataset"
   ]
  },
  {
   "cell_type": "code",
   "execution_count": 104,
   "id": "5726e4c3-ef8e-43b4-8ffe-5b13f08448ed",
   "metadata": {},
   "outputs": [
    {
     "name": "stderr",
     "output_type": "stream",
     "text": [
      "<ipython-input-102-9ebe380a9d21>:17: SettingWithCopyWarning: \n",
      "A value is trying to be set on a copy of a slice from a DataFrame\n",
      "\n",
      "See the caveats in the documentation: https://pandas.pydata.org/pandas-docs/stable/user_guide/indexing.html#returning-a-view-versus-a-copy\n",
      "  dataset['sentence'][idx] = temp\n"
     ]
    }
   ],
   "source": [
    "en_train_data_dir = \"./data/en_all_train.csv\"\n",
    "ent_dataset = en_load_data(en_train_data_dir)"
   ]
  },
  {
   "cell_type": "code",
   "execution_count": 105,
   "id": "a609bcd7-0680-4c1e-b616-c302aff93a6f",
   "metadata": {},
   "outputs": [
    {
     "data": {
      "text/html": [
       "<div>\n",
       "<style scoped>\n",
       "    .dataframe tbody tr th:only-of-type {\n",
       "        vertical-align: middle;\n",
       "    }\n",
       "\n",
       "    .dataframe tbody tr th {\n",
       "        vertical-align: top;\n",
       "    }\n",
       "\n",
       "    .dataframe thead th {\n",
       "        text-align: right;\n",
       "    }\n",
       "</style>\n",
       "<table border=\"1\" class=\"dataframe\">\n",
       "  <thead>\n",
       "    <tr style=\"text-align: right;\">\n",
       "      <th></th>\n",
       "      <th>id</th>\n",
       "      <th>sentence</th>\n",
       "      <th>subject_entity</th>\n",
       "      <th>object_entity</th>\n",
       "      <th>subject_type</th>\n",
       "      <th>object_type</th>\n",
       "      <th>label</th>\n",
       "    </tr>\n",
       "  </thead>\n",
       "  <tbody>\n",
       "    <tr>\n",
       "      <th>0</th>\n",
       "      <td>0</td>\n",
       "      <td>〈Something〉는 [E2]조지 해리슨[/E2]이 쓰고 [E1]비틀즈[/E1]가...</td>\n",
       "      <td>비틀즈</td>\n",
       "      <td>조지 해리슨</td>\n",
       "      <td>ORG</td>\n",
       "      <td>PER</td>\n",
       "      <td>no_relation</td>\n",
       "    </tr>\n",
       "    <tr>\n",
       "      <th>1</th>\n",
       "      <td>1</td>\n",
       "      <td>호남이 기반인 바른미래당·[E2]대안신당[/E2]·[E1]민주평화당[/E1]이 우여...</td>\n",
       "      <td>민주평화당</td>\n",
       "      <td>대안신당</td>\n",
       "      <td>ORG</td>\n",
       "      <td>ORG</td>\n",
       "      <td>no_relation</td>\n",
       "    </tr>\n",
       "    <tr>\n",
       "      <th>2</th>\n",
       "      <td>2</td>\n",
       "      <td>K리그2에서 성적 1위를 달리고 있는 [E1]광주FC[/E1]는 지난 26일 [E2...</td>\n",
       "      <td>광주FC</td>\n",
       "      <td>한국프로축구연맹</td>\n",
       "      <td>ORG</td>\n",
       "      <td>ORG</td>\n",
       "      <td>org:member_of</td>\n",
       "    </tr>\n",
       "    <tr>\n",
       "      <th>3</th>\n",
       "      <td>3</td>\n",
       "      <td>균일가 생활용품점 (주)[E1]아성다이소[/E1](대표 [E2]박정부[/E2])는 ...</td>\n",
       "      <td>아성다이소</td>\n",
       "      <td>박정부</td>\n",
       "      <td>ORG</td>\n",
       "      <td>PER</td>\n",
       "      <td>org:top_members/employees</td>\n",
       "    </tr>\n",
       "    <tr>\n",
       "      <th>4</th>\n",
       "      <td>4</td>\n",
       "      <td>[E2]1967[/E2]년 프로 야구 드래프트 1순위로 [E1]요미우리 자이언츠[/...</td>\n",
       "      <td>요미우리 자이언츠</td>\n",
       "      <td>1967</td>\n",
       "      <td>ORG</td>\n",
       "      <td>DAT</td>\n",
       "      <td>no_relation</td>\n",
       "    </tr>\n",
       "  </tbody>\n",
       "</table>\n",
       "</div>"
      ],
      "text/plain": [
       "   id                                           sentence subject_entity  \\\n",
       "0   0  〈Something〉는 [E2]조지 해리슨[/E2]이 쓰고 [E1]비틀즈[/E1]가...            비틀즈   \n",
       "1   1  호남이 기반인 바른미래당·[E2]대안신당[/E2]·[E1]민주평화당[/E1]이 우여...          민주평화당   \n",
       "2   2  K리그2에서 성적 1위를 달리고 있는 [E1]광주FC[/E1]는 지난 26일 [E2...           광주FC   \n",
       "3   3  균일가 생활용품점 (주)[E1]아성다이소[/E1](대표 [E2]박정부[/E2])는 ...          아성다이소   \n",
       "4   4  [E2]1967[/E2]년 프로 야구 드래프트 1순위로 [E1]요미우리 자이언츠[/...      요미우리 자이언츠   \n",
       "\n",
       "  object_entity subject_type object_type                      label  \n",
       "0        조지 해리슨          ORG         PER                no_relation  \n",
       "1          대안신당          ORG         ORG                no_relation  \n",
       "2      한국프로축구연맹          ORG         ORG              org:member_of  \n",
       "3           박정부          ORG         PER  org:top_members/employees  \n",
       "4          1967          ORG         DAT                no_relation  "
      ]
     },
     "execution_count": 105,
     "metadata": {},
     "output_type": "execute_result"
    }
   ],
   "source": [
    "ent_dataset.head()"
   ]
  },
  {
   "cell_type": "code",
   "execution_count": 166,
   "id": "85ca3290-8bad-4e31-9595-d1a3f32f4a2d",
   "metadata": {},
   "outputs": [
    {
     "data": {
      "text/plain": [
       "'〈Something〉는 [E2]조지 해리슨[/E2]이 쓰고 [E1]비틀즈[/E1]가 1969년 앨범 《Abbey Road》에 담은 노래다.'"
      ]
     },
     "execution_count": 166,
     "metadata": {},
     "output_type": "execute_result"
    }
   ],
   "source": [
    "ent_dataset.iloc[0]['sentence']"
   ]
  },
  {
   "cell_type": "code",
   "execution_count": 167,
   "id": "ee74df75-4ef5-40a6-9f2f-e61b01d14a6e",
   "metadata": {},
   "outputs": [
    {
     "data": {
      "text/plain": [
       "4"
      ]
     },
     "execution_count": 167,
     "metadata": {},
     "output_type": "execute_result"
    }
   ],
   "source": [
    "from transformers import AutoTokenizer\n",
    "# bert-base-uncased & bert-base-cased\n",
    "tokenizer = AutoTokenizer.from_pretrained(\"klue/roberta-large\")\n",
    "sub_obj = [\"[E1]\", \"[/E1]\",\"[E2]\", \"[/E2]\"]\n",
    "#dir(tokenizer)\n",
    "tokenizer.add_special_tokens({\n",
    "                            \"additional_special_tokens\": sub_obj\n",
    "                            })"
   ]
  },
  {
   "cell_type": "code",
   "execution_count": 119,
   "id": "fd5f82de-4704-402c-8e02-5f92faef0fd2",
   "metadata": {},
   "outputs": [
    {
     "data": {
      "text/plain": [
       "{'bos_token': '[CLS]',\n",
       " 'eos_token': '[SEP]',\n",
       " 'unk_token': '[UNK]',\n",
       " 'sep_token': '[SEP]',\n",
       " 'pad_token': '[PAD]',\n",
       " 'cls_token': '[CLS]',\n",
       " 'mask_token': '[MASK]',\n",
       " 'additional_special_tokens': ['[E1]', '[/E1]', '[E2]', '[/E2]']}"
      ]
     },
     "execution_count": 119,
     "metadata": {},
     "output_type": "execute_result"
    }
   ],
   "source": [
    "tokenizer.special_tokens_map # bos_token 은 뭐지?"
   ]
  },
  {
   "cell_type": "code",
   "execution_count": null,
   "id": "441d5b5d-43fa-42c1-a199-9e3b313eee9d",
   "metadata": {},
   "outputs": [],
   "source": [
    "def tokenized_dataset(dataset, tokenizer):\n",
    "  \"\"\" tokenizer에 따라 sentence를 tokenizing 합니다.\"\"\"\n",
    "    # TODO! multi sentence ; single sentence\n",
    "    concat_entity = []\n",
    "    for e01, e02 in zip(dataset['subject_entity'], dataset['object_entity']):\n",
    "        temp = ''\n",
    "        temp = e01 + '[SEP]' + e02\n",
    "        concat_entity.append(temp)\n",
    "        tokenized_sentences = tokenizer(\n",
    "                              concat_entity,\n",
    "                              list(dataset['sentence']),\n",
    "                              return_tensors=\"pt\",\n",
    "                              padding=True,\n",
    "                              truncation=True,\n",
    "                              max_length=256,\n",
    "                              add_special_tokens=True,\n",
    "                              )\n",
    "  return tokenized_sentences"
   ]
  },
  {
   "cell_type": "code",
   "execution_count": 168,
   "id": "c8fcb8df-be3f-4d83-9363-71d52a33d1b4",
   "metadata": {},
   "outputs": [],
   "source": [
    "out = tokenized_dataset(ent_dataset, tokenizer)"
   ]
  },
  {
   "cell_type": "code",
   "execution_count": 157,
   "id": "c0262258-7be5-49d6-87d2-885c52dce332",
   "metadata": {},
   "outputs": [
    {
     "data": {
      "text/plain": [
       "{'input_ids': tensor([[    0, 29830,     2,  ...,     1,     1,     1],\n",
       "        [    0,  3772,  2139,  ...,     1,     1,     1],\n",
       "        [    0,  4104, 10904,  ...,     1,     1,     1],\n",
       "        ...,\n",
       "        [    0, 18272,  2242,  ...,     1,     1,     1],\n",
       "        [    0, 15710,     2,  ...,     1,     1,     1],\n",
       "        [    0, 15437,  2242,  ...,     1,     1,     1]]), 'token_type_ids': tensor([[0, 0, 0,  ..., 0, 0, 0],\n",
       "        [0, 0, 0,  ..., 0, 0, 0],\n",
       "        [0, 0, 0,  ..., 0, 0, 0],\n",
       "        ...,\n",
       "        [0, 0, 0,  ..., 0, 0, 0],\n",
       "        [0, 0, 0,  ..., 0, 0, 0],\n",
       "        [0, 0, 0,  ..., 0, 0, 0]]), 'attention_mask': tensor([[1, 1, 1,  ..., 0, 0, 0],\n",
       "        [1, 1, 1,  ..., 0, 0, 0],\n",
       "        [1, 1, 1,  ..., 0, 0, 0],\n",
       "        ...,\n",
       "        [1, 1, 1,  ..., 0, 0, 0],\n",
       "        [1, 1, 1,  ..., 0, 0, 0],\n",
       "        [1, 1, 1,  ..., 0, 0, 0]])}"
      ]
     },
     "execution_count": 157,
     "metadata": {},
     "output_type": "execute_result"
    }
   ],
   "source": [
    "out"
   ]
  },
  {
   "cell_type": "code",
   "execution_count": 172,
   "id": "5712a25a-da4f-4657-b007-5e08cc3ea7f1",
   "metadata": {},
   "outputs": [
    {
     "data": {
      "text/plain": [
       "tensor([    0, 29830,     2,  8373, 14113,  2234,     2,   168, 30985, 14451,\n",
       "         7088,  4586,   169,   793, 32002,  8373, 14113,  2234, 32003,  1504,\n",
       "         1363,  2088, 32000, 29830, 32001,   543, 14879,  2440,  6711,   170,\n",
       "        21406, 26713,  2076, 25145,  5749,   171,  1421,   818,  2073,  4388,\n",
       "         2062,    18,     2,     1,     1,     1,     1,     1,     1,     1,\n",
       "            1,     1,     1,     1,     1,     1,     1,     1,     1,     1,\n",
       "            1,     1,     1,     1,     1,     1,     1,     1,     1,     1,\n",
       "            1,     1,     1,     1,     1,     1,     1,     1,     1,     1,\n",
       "            1,     1,     1,     1,     1,     1,     1,     1,     1,     1,\n",
       "            1,     1,     1,     1,     1,     1,     1,     1,     1,     1,\n",
       "            1,     1,     1,     1,     1,     1,     1,     1,     1,     1,\n",
       "            1,     1,     1,     1,     1,     1,     1,     1,     1,     1,\n",
       "            1,     1,     1,     1,     1,     1,     1,     1,     1,     1,\n",
       "            1,     1,     1,     1,     1,     1,     1,     1,     1,     1,\n",
       "            1,     1,     1,     1,     1,     1,     1,     1,     1,     1,\n",
       "            1,     1,     1,     1,     1,     1,     1,     1,     1,     1,\n",
       "            1,     1,     1,     1,     1,     1,     1,     1,     1,     1,\n",
       "            1,     1,     1,     1,     1,     1,     1,     1,     1,     1,\n",
       "            1,     1,     1,     1,     1,     1,     1,     1,     1,     1,\n",
       "            1,     1,     1,     1,     1,     1,     1,     1,     1,     1,\n",
       "            1,     1,     1,     1,     1,     1,     1,     1,     1,     1,\n",
       "            1,     1,     1,     1,     1,     1,     1,     1,     1,     1,\n",
       "            1,     1,     1,     1,     1,     1,     1,     1,     1,     1,\n",
       "            1,     1,     1,     1,     1,     1,     1,     1,     1,     1,\n",
       "            1])"
      ]
     },
     "execution_count": 172,
     "metadata": {},
     "output_type": "execute_result"
    }
   ],
   "source": [
    "out['input_ids'][0]"
   ]
  },
  {
   "cell_type": "code",
   "execution_count": 132,
   "id": "16712397-2b84-4d21-a4bb-18d5293a25d3",
   "metadata": {},
   "outputs": [
    {
     "name": "stdout",
     "output_type": "stream",
     "text": [
      "[CLS] 민주 ##평 ##화 ##당 [SEP] 대안 ##신 ##당 [SEP] 호남 ##이 기반 ##인 바른 ##미 ##래 ##당 · [E2] 대안 ##신 ##당 [/E2] · [E1] 민주 ##평 ##화 ##당 [/E1] 이 우여곡절 끝 ##에 합당 ##해 민생 ##당 ( 가칭 ) 으로 재 ##탄 ##생 ##한다 . [SEP] [PAD] [PAD] [PAD] [PAD] [PAD] [PAD] [PAD] [PAD] [PAD] [PAD] [PAD] [PAD] [PAD] [PAD] [PAD] [PAD] [PAD] [PAD] [PAD] [PAD] [PAD] [PAD] [PAD] [PAD] [PAD] [PAD] [PAD] [PAD] [PAD] [PAD] [PAD] [PAD] [PAD] [PAD] [PAD] [PAD] [PAD] [PAD] [PAD] [PAD] [PAD] [PAD] [PAD] [PAD] [PAD] [PAD] [PAD] [PAD] [PAD] [PAD] [PAD] [PAD] [PAD] [PAD] [PAD] [PAD] [PAD] [PAD] [PAD] [PAD] [PAD] [PAD] [PAD] [PAD] [PAD] [PAD] [PAD] [PAD] [PAD] [PAD] [PAD] [PAD] [PAD] [PAD] [PAD] [PAD] [PAD] [PAD] [PAD] [PAD] [PAD] [PAD] [PAD] [PAD] [PAD] [PAD] [PAD] [PAD] [PAD] [PAD] [PAD] [PAD] [PAD] [PAD] [PAD] [PAD] [PAD] [PAD] [PAD] [PAD] [PAD] [PAD] [PAD] [PAD] [PAD] [PAD] [PAD] [PAD] [PAD] [PAD] [PAD] [PAD] [PAD] [PAD] [PAD] [PAD] [PAD] [PAD] [PAD] [PAD] [PAD] [PAD] [PAD] [PAD] [PAD] [PAD] [PAD] [PAD] [PAD] [PAD] [PAD] [PAD] [PAD] [PAD] [PAD] [PAD] [PAD] [PAD] [PAD] [PAD] [PAD] [PAD] [PAD] [PAD] [PAD] [PAD] [PAD] [PAD] [PAD] [PAD] [PAD] [PAD] [PAD] [PAD] [PAD] [PAD] [PAD] [PAD] [PAD] [PAD] [PAD] [PAD] [PAD] [PAD] [PAD] [PAD] [PAD] [PAD] [PAD] [PAD] [PAD] [PAD] [PAD] [PAD] [PAD] [PAD] [PAD] [PAD] [PAD] [PAD] [PAD] [PAD] [PAD] [PAD] [PAD] [PAD] [PAD] [PAD] [PAD] [PAD] [PAD] [PAD]\n",
      "1 0 0 0 0 0 0 0 0 1 0 0 0 0 0 0 0 0 0 0 0 0 0 0 0 0 0 0 0 0 0 0 0 0 0 0 0 0 0 0 0 0 0 0 0 0 0 0 1 1 1 1 1 1 1 1 1 1 1 1 1 1 1 1 1 1 1 1 1 1 1 1 1 1 1 1 1 1 1 1 1 1 1 1 1 1 1 1 1 1 1 1 1 1 1 1 1 1 1 1 1 1 1 1 1 1 1 1 1 1 1 1 1 1 1 1 1 1 1 1 1 1 1 1 1 1 1 1 1 1 1 1 1 1 1 1 1 1 1 1 1 1 1 1 1 1 1 1 1 1 1 1 1 1 1 1 1 1 1 1 1 1 1 1 1 1 1 1 1 1 1 1 1 1 1 1 1 1 1 1 1 1 1 1 1 1 1 1 1 1 1 1 1 1 1 1 1 1 1 1 1 1 1 1 1 1 1 1 1 1 1 1 1 1 1 1 1 1 1 1 1 1 1 1 1 1 1 1 1 1 1 1 1 1 1 1 1 1 1 1 1\n"
     ]
    }
   ],
   "source": [
    "# [E1], [/E1] 도 mask 돼야하는거 아닌가..일단 해보자..\n",
    "# https://github.com/huggingface/tokenizers/issues/790\n",
    "print(*out[1].tokens)\n",
    "print(*out[1].special_tokens_mask)"
   ]
  },
  {
   "cell_type": "code",
   "execution_count": 140,
   "id": "4dbf3f5d-6f75-4839-b8b8-70b50966dba2",
   "metadata": {},
   "outputs": [
    {
     "data": {
      "text/plain": [
       "{'input_ids': [0, 25419, 32001, 2], 'token_type_ids': [0, 0, 0, 0], 'attention_mask': [1, 1, 1, 1]}"
      ]
     },
     "execution_count": 140,
     "metadata": {},
     "output_type": "execute_result"
    }
   ],
   "source": [
    "tokenizer(\"this [/E1]\")"
   ]
  },
  {
   "cell_type": "code",
   "execution_count": 134,
   "id": "bd7407ee-ecf9-4b34-8135-ba4dcdc059e0",
   "metadata": {},
   "outputs": [
    {
     "name": "stderr",
     "output_type": "stream",
     "text": [
      "Some weights of the model checkpoint at klue/roberta-large were not used when initializing RobertaModel: ['lm_head.layer_norm.weight', 'lm_head.dense.bias', 'lm_head.decoder.bias', 'lm_head.bias', 'lm_head.dense.weight', 'lm_head.decoder.weight', 'lm_head.layer_norm.bias']\n",
      "- This IS expected if you are initializing RobertaModel from the checkpoint of a model trained on another task or with another architecture (e.g. initializing a BertForSequenceClassification model from a BertForPreTraining model).\n",
      "- This IS NOT expected if you are initializing RobertaModel from the checkpoint of a model that you expect to be exactly identical (initializing a BertForSequenceClassification model from a BertForSequenceClassification model).\n",
      "Some weights of RobertaModel were not initialized from the model checkpoint at klue/roberta-large and are newly initialized: ['roberta.pooler.dense.bias', 'roberta.pooler.dense.weight']\n",
      "You should probably TRAIN this model on a down-stream task to be able to use it for predictions and inference.\n"
     ]
    }
   ],
   "source": [
    "from transformers import AutoConfig, AutoModel\n",
    "config = AutoConfig.from_pretrained(\"klue/roberta-large\")\n",
    "backbone_model = AutoModel.from_pretrained(\"klue/roberta-large\")"
   ]
  },
  {
   "cell_type": "code",
   "execution_count": 159,
   "id": "1933d2ae-3c82-468e-a645-0ac0580e6cde",
   "metadata": {},
   "outputs": [],
   "source": [
    "# dir(backbone_model)"
   ]
  },
  {
   "cell_type": "code",
   "execution_count": 150,
   "id": "4ae030f0-4b7e-4690-a336-4a4e88cb7de7",
   "metadata": {},
   "outputs": [
    {
     "data": {
      "text/plain": [
       "RobertaEmbeddings(\n",
       "  (word_embeddings): Embedding(32000, 1024, padding_idx=1)\n",
       "  (position_embeddings): Embedding(514, 1024, padding_idx=1)\n",
       "  (token_type_embeddings): Embedding(1, 1024)\n",
       "  (LayerNorm): LayerNorm((1024,), eps=1e-05, elementwise_affine=True)\n",
       "  (dropout): Dropout(p=0.1, inplace=False)\n",
       ")"
      ]
     },
     "execution_count": 150,
     "metadata": {},
     "output_type": "execute_result"
    }
   ],
   "source": [
    "backbone_model.embeddings"
   ]
  },
  {
   "cell_type": "code",
   "execution_count": 151,
   "id": "297f70c1-22cd-4d3c-9559-4f129098c617",
   "metadata": {},
   "outputs": [
    {
     "data": {
      "text/plain": [
       "Embedding(32004, 1024)"
      ]
     },
     "execution_count": 151,
     "metadata": {},
     "output_type": "execute_result"
    }
   ],
   "source": [
    "backbone_model.resize_token_embeddings(len(tokenizer))"
   ]
  },
  {
   "cell_type": "code",
   "execution_count": 158,
   "id": "4b043228-0860-4961-9847-1252e21e4b9f",
   "metadata": {},
   "outputs": [
    {
     "data": {
      "text/plain": [
       "RobertaEmbeddings(\n",
       "  (word_embeddings): Embedding(32004, 1024)\n",
       "  (position_embeddings): Embedding(514, 1024, padding_idx=1)\n",
       "  (token_type_embeddings): Embedding(1, 1024)\n",
       "  (LayerNorm): LayerNorm((1024,), eps=1e-05, elementwise_affine=True)\n",
       "  (dropout): Dropout(p=0.1, inplace=False)\n",
       ")"
      ]
     },
     "execution_count": 158,
     "metadata": {},
     "output_type": "execute_result"
    }
   ],
   "source": [
    "backbone_model.embeddings"
   ]
  },
  {
   "cell_type": "code",
   "execution_count": 153,
   "id": "bcbf5879-ea5e-4721-b4a4-2955085e60fe",
   "metadata": {},
   "outputs": [],
   "source": [
    "# 참고\n",
    "# https://github.com/snoop2head/KLUE-RBERT/blob/main/models.py\n",
    "# https://github.com/snoop2head/KLUE-RBERT/blob/main/train.py\n",
    "# https://github.com/monologg/R-BERT/blob/master/model.py\n",
    "# https://github.com/boostcampaitech2/klue-level2-nlp-13/blob/2cd72e1627a9808e87214027ed8b61cdfd10e091/utills.py\n",
    "# https://github.com/boostcampaitech2/klue-level2-nlp-13/blob/2cd72e1627a9808e87214027ed8b61cdfd10e091/mytokenizers.py#L11\n",
    "# https://github.com/boostcampaitech2/klue-level2-nlp-13/blob/2cd72e1627a9808e87214027ed8b61cdfd10e091/load_data.py#L76\n",
    "# https://github.com/boostcampaitech2/klue-level2-nlp-13/blob/main/models.py\n",
    "\n",
    "# https://github.com/boostcampaitech2/klue-level2-nlp-14/tree/main/solution/utils\n",
    "# https://github.com/huggingface/tokenizers/issues/247"
   ]
  },
  {
   "cell_type": "code",
   "execution_count": null,
   "id": "2deebd64-8fca-4948-89fe-f31ef0e67ae6",
   "metadata": {},
   "outputs": [],
   "source": []
  }
 ],
 "metadata": {
  "kernelspec": {
   "display_name": "Python 3",
   "language": "python",
   "name": "python3"
  },
  "language_info": {
   "codemirror_mode": {
    "name": "ipython",
    "version": 3
   },
   "file_extension": ".py",
   "mimetype": "text/x-python",
   "name": "python",
   "nbconvert_exporter": "python",
   "pygments_lexer": "ipython3",
   "version": "3.8.5"
  }
 },
 "nbformat": 4,
 "nbformat_minor": 5
}
