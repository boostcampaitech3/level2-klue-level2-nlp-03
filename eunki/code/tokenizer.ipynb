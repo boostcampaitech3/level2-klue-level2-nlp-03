{
 "cells": [
  {
   "cell_type": "code",
   "execution_count": 1,
   "metadata": {},
   "outputs": [],
   "source": [
    "import pandas as pd\n",
    "import torch\n",
    "import sklearn\n",
    "import numpy as np\n",
    "\n",
    "from transformers import AutoTokenizer, AutoConfig, EarlyStoppingCallback, AutoModelForSequenceClassification, Trainer, TrainingArguments, RobertaConfig, RobertaTokenizer, RobertaForSequenceClassification, BertTokenizer"
   ]
  },
  {
   "cell_type": "code",
   "execution_count": 13,
   "metadata": {},
   "outputs": [
    {
     "data": {
      "application/vnd.jupyter.widget-view+json": {
       "model_id": "8dcbc3b1cd2340ddb2fe61859ba5060b",
       "version_major": 2,
       "version_minor": 0
      },
      "text/plain": [
       "Downloading:   0%|          | 0.00/337 [00:00<?, ?B/s]"
      ]
     },
     "metadata": {},
     "output_type": "display_data"
    },
    {
     "data": {
      "application/vnd.jupyter.widget-view+json": {
       "model_id": "304a8d5c689d44969782142c37a2f14d",
       "version_major": 2,
       "version_minor": 0
      },
      "text/plain": [
       "Downloading:   0%|          | 0.00/752 [00:00<?, ?B/s]"
      ]
     },
     "metadata": {},
     "output_type": "display_data"
    },
    {
     "data": {
      "application/vnd.jupyter.widget-view+json": {
       "model_id": "919f3adb4bc64aa386226797a65127ad",
       "version_major": 2,
       "version_minor": 0
      },
      "text/plain": [
       "Downloading:   0%|          | 0.00/248k [00:00<?, ?B/s]"
      ]
     },
     "metadata": {},
     "output_type": "display_data"
    },
    {
     "data": {
      "application/vnd.jupyter.widget-view+json": {
       "model_id": "ac8a9b56fadd4d9aa5e8be7cd789dd1f",
       "version_major": 2,
       "version_minor": 0
      },
      "text/plain": [
       "Downloading:   0%|          | 0.00/173 [00:00<?, ?B/s]"
      ]
     },
     "metadata": {},
     "output_type": "display_data"
    },
    {
     "data": {
      "text/plain": [
       "'[CLS] 〈 Something 〉 는 조지 해리슨이 쓰고 비틀즈가 1969년 앨범 《 Abbey Road 》 에 담은 노래다 [SEP]'"
      ]
     },
     "execution_count": 13,
     "metadata": {},
     "output_type": "execute_result"
    }
   ],
   "source": [
    "tokenizer = AutoTokenizer.from_pretrained(\"goodjw/klue-roberta-large-tapt\")\n",
    "tokenizer.decode(tokenizer.encode(\"〈Something〉는 조지 해리슨이 쓰고 비틀즈가 1969년 앨범 《Abbey Road》에 담은 노래다\"))"
   ]
  },
  {
   "cell_type": "code",
   "execution_count": 14,
   "metadata": {},
   "outputs": [
    {
     "data": {
      "text/plain": [
       "['〈',\n",
       " 'So',\n",
       " '##me',\n",
       " '##th',\n",
       " '##ing',\n",
       " '〉',\n",
       " '는',\n",
       " '조지',\n",
       " '해리',\n",
       " '##슨',\n",
       " '##이',\n",
       " '쓰',\n",
       " '##고',\n",
       " '비틀즈',\n",
       " '##가',\n",
       " '1969',\n",
       " '##년',\n",
       " '앨범',\n",
       " '《',\n",
       " 'Ab',\n",
       " '##be',\n",
       " '##y',\n",
       " 'Ro',\n",
       " '##ad',\n",
       " '》',\n",
       " '에',\n",
       " '담',\n",
       " '##은',\n",
       " '노래',\n",
       " '##다']"
      ]
     },
     "execution_count": 14,
     "metadata": {},
     "output_type": "execute_result"
    }
   ],
   "source": [
    "tokenizer.tokenize(\"〈Something〉는 조지 해리슨이 쓰고 비틀즈가 1969년 앨범 《Abbey Road》에 담은 노래다\")"
   ]
  },
  {
   "cell_type": "code",
   "execution_count": 15,
   "metadata": {},
   "outputs": [
    {
     "data": {
      "text/html": [
       "<div>\n",
       "<style scoped>\n",
       "    .dataframe tbody tr th:only-of-type {\n",
       "        vertical-align: middle;\n",
       "    }\n",
       "\n",
       "    .dataframe tbody tr th {\n",
       "        vertical-align: top;\n",
       "    }\n",
       "\n",
       "    .dataframe thead th {\n",
       "        text-align: right;\n",
       "    }\n",
       "</style>\n",
       "<table border=\"1\" class=\"dataframe\">\n",
       "  <thead>\n",
       "    <tr style=\"text-align: right;\">\n",
       "      <th></th>\n",
       "      <th>id</th>\n",
       "      <th>sentence</th>\n",
       "      <th>subject_entity</th>\n",
       "      <th>object_entity</th>\n",
       "      <th>label</th>\n",
       "      <th>source</th>\n",
       "    </tr>\n",
       "  </thead>\n",
       "  <tbody>\n",
       "    <tr>\n",
       "      <th>0</th>\n",
       "      <td>0</td>\n",
       "      <td>〈Something〉는 조지 해리슨이 쓰고 비틀즈가 1969년 앨범 《Abbey R...</td>\n",
       "      <td>{'word': '비틀즈', 'start_idx': 24, 'end_idx': 26...</td>\n",
       "      <td>{'word': '조지 해리슨', 'start_idx': 13, 'end_idx':...</td>\n",
       "      <td>no_relation</td>\n",
       "      <td>wikipedia</td>\n",
       "    </tr>\n",
       "    <tr>\n",
       "      <th>1</th>\n",
       "      <td>1</td>\n",
       "      <td>호남이 기반인 바른미래당·대안신당·민주평화당이 우여곡절 끝에 합당해 민생당(가칭)으...</td>\n",
       "      <td>{'word': '민주평화당', 'start_idx': 19, 'end_idx': ...</td>\n",
       "      <td>{'word': '대안신당', 'start_idx': 14, 'end_idx': 1...</td>\n",
       "      <td>no_relation</td>\n",
       "      <td>wikitree</td>\n",
       "    </tr>\n",
       "    <tr>\n",
       "      <th>2</th>\n",
       "      <td>2</td>\n",
       "      <td>K리그2에서 성적 1위를 달리고 있는 광주FC는 지난 26일 한국프로축구연맹으로부터...</td>\n",
       "      <td>{'word': '광주FC', 'start_idx': 21, 'end_idx': 2...</td>\n",
       "      <td>{'word': '한국프로축구연맹', 'start_idx': 34, 'end_idx...</td>\n",
       "      <td>org:member_of</td>\n",
       "      <td>wikitree</td>\n",
       "    </tr>\n",
       "    <tr>\n",
       "      <th>3</th>\n",
       "      <td>3</td>\n",
       "      <td>균일가 생활용품점 (주)아성다이소(대표 박정부)는 코로나19 바이러스로 어려움을 겪...</td>\n",
       "      <td>{'word': '아성다이소', 'start_idx': 13, 'end_idx': ...</td>\n",
       "      <td>{'word': '박정부', 'start_idx': 22, 'end_idx': 24...</td>\n",
       "      <td>org:top_members/employees</td>\n",
       "      <td>wikitree</td>\n",
       "    </tr>\n",
       "    <tr>\n",
       "      <th>4</th>\n",
       "      <td>4</td>\n",
       "      <td>1967년 프로 야구 드래프트 1순위로 요미우리 자이언츠에게 입단하면서 등번호는 8...</td>\n",
       "      <td>{'word': '요미우리 자이언츠', 'start_idx': 22, 'end_id...</td>\n",
       "      <td>{'word': '1967', 'start_idx': 0, 'end_idx': 3,...</td>\n",
       "      <td>no_relation</td>\n",
       "      <td>wikipedia</td>\n",
       "    </tr>\n",
       "    <tr>\n",
       "      <th>...</th>\n",
       "      <td>...</td>\n",
       "      <td>...</td>\n",
       "      <td>...</td>\n",
       "      <td>...</td>\n",
       "      <td>...</td>\n",
       "      <td>...</td>\n",
       "    </tr>\n",
       "    <tr>\n",
       "      <th>32465</th>\n",
       "      <td>32465</td>\n",
       "      <td>한국당은 7일 오전 9시부터 오후 5시까지 진행된 원내대표 및 정책위의장 후보자 등...</td>\n",
       "      <td>{'word': '유기준', 'start_idx': 93, 'end_idx': 95...</td>\n",
       "      <td>{'word': '부산 서구·동구', 'start_idx': 100, 'end_id...</td>\n",
       "      <td>per:employee_of</td>\n",
       "      <td>wikitree</td>\n",
       "    </tr>\n",
       "    <tr>\n",
       "      <th>32466</th>\n",
       "      <td>32466</td>\n",
       "      <td>법포는 다시 최시형, 서병학, 손병희 직계인 북접과 다시 서장옥, 전봉준, 김개남을...</td>\n",
       "      <td>{'word': '최시형', 'start_idx': 7, 'end_idx': 9, ...</td>\n",
       "      <td>{'word': '손병희', 'start_idx': 17, 'end_idx': 19...</td>\n",
       "      <td>per:colleagues</td>\n",
       "      <td>wikipedia</td>\n",
       "    </tr>\n",
       "    <tr>\n",
       "      <th>32467</th>\n",
       "      <td>32467</td>\n",
       "      <td>완도군(군수 신우철)이 국토교통부에서 실시한 '2019 교통문화지수 실태조사'에서 ...</td>\n",
       "      <td>{'word': '완도군', 'start_idx': 0, 'end_idx': 2, ...</td>\n",
       "      <td>{'word': '신우철', 'start_idx': 7, 'end_idx': 9, ...</td>\n",
       "      <td>org:top_members/employees</td>\n",
       "      <td>wikitree</td>\n",
       "    </tr>\n",
       "    <tr>\n",
       "      <th>32468</th>\n",
       "      <td>32468</td>\n",
       "      <td>중앙일보, JTBC 회장을 지낸 이후 중앙홀딩스 회장, 재단법인 한반도평화만들기 이...</td>\n",
       "      <td>{'word': 'JTBC', 'start_idx': 6, 'end_idx': 9,...</td>\n",
       "      <td>{'word': '중앙홀딩스', 'start_idx': 21, 'end_idx': ...</td>\n",
       "      <td>no_relation</td>\n",
       "      <td>wikipedia</td>\n",
       "    </tr>\n",
       "    <tr>\n",
       "      <th>32469</th>\n",
       "      <td>32469</td>\n",
       "      <td>화순군(군수 구충곤)은 17일 동면의 이장 20여 명이 코로나 19 예방을 위해 버...</td>\n",
       "      <td>{'word': '화순군', 'start_idx': 0, 'end_idx': 2, ...</td>\n",
       "      <td>{'word': '구충곤', 'start_idx': 7, 'end_idx': 9, ...</td>\n",
       "      <td>org:top_members/employees</td>\n",
       "      <td>wikitree</td>\n",
       "    </tr>\n",
       "  </tbody>\n",
       "</table>\n",
       "<p>32470 rows × 6 columns</p>\n",
       "</div>"
      ],
      "text/plain": [
       "          id                                           sentence  \\\n",
       "0          0  〈Something〉는 조지 해리슨이 쓰고 비틀즈가 1969년 앨범 《Abbey R...   \n",
       "1          1  호남이 기반인 바른미래당·대안신당·민주평화당이 우여곡절 끝에 합당해 민생당(가칭)으...   \n",
       "2          2  K리그2에서 성적 1위를 달리고 있는 광주FC는 지난 26일 한국프로축구연맹으로부터...   \n",
       "3          3  균일가 생활용품점 (주)아성다이소(대표 박정부)는 코로나19 바이러스로 어려움을 겪...   \n",
       "4          4  1967년 프로 야구 드래프트 1순위로 요미우리 자이언츠에게 입단하면서 등번호는 8...   \n",
       "...      ...                                                ...   \n",
       "32465  32465  한국당은 7일 오전 9시부터 오후 5시까지 진행된 원내대표 및 정책위의장 후보자 등...   \n",
       "32466  32466  법포는 다시 최시형, 서병학, 손병희 직계인 북접과 다시 서장옥, 전봉준, 김개남을...   \n",
       "32467  32467  완도군(군수 신우철)이 국토교통부에서 실시한 '2019 교통문화지수 실태조사'에서 ...   \n",
       "32468  32468  중앙일보, JTBC 회장을 지낸 이후 중앙홀딩스 회장, 재단법인 한반도평화만들기 이...   \n",
       "32469  32469  화순군(군수 구충곤)은 17일 동면의 이장 20여 명이 코로나 19 예방을 위해 버...   \n",
       "\n",
       "                                          subject_entity  \\\n",
       "0      {'word': '비틀즈', 'start_idx': 24, 'end_idx': 26...   \n",
       "1      {'word': '민주평화당', 'start_idx': 19, 'end_idx': ...   \n",
       "2      {'word': '광주FC', 'start_idx': 21, 'end_idx': 2...   \n",
       "3      {'word': '아성다이소', 'start_idx': 13, 'end_idx': ...   \n",
       "4      {'word': '요미우리 자이언츠', 'start_idx': 22, 'end_id...   \n",
       "...                                                  ...   \n",
       "32465  {'word': '유기준', 'start_idx': 93, 'end_idx': 95...   \n",
       "32466  {'word': '최시형', 'start_idx': 7, 'end_idx': 9, ...   \n",
       "32467  {'word': '완도군', 'start_idx': 0, 'end_idx': 2, ...   \n",
       "32468  {'word': 'JTBC', 'start_idx': 6, 'end_idx': 9,...   \n",
       "32469  {'word': '화순군', 'start_idx': 0, 'end_idx': 2, ...   \n",
       "\n",
       "                                           object_entity  \\\n",
       "0      {'word': '조지 해리슨', 'start_idx': 13, 'end_idx':...   \n",
       "1      {'word': '대안신당', 'start_idx': 14, 'end_idx': 1...   \n",
       "2      {'word': '한국프로축구연맹', 'start_idx': 34, 'end_idx...   \n",
       "3      {'word': '박정부', 'start_idx': 22, 'end_idx': 24...   \n",
       "4      {'word': '1967', 'start_idx': 0, 'end_idx': 3,...   \n",
       "...                                                  ...   \n",
       "32465  {'word': '부산 서구·동구', 'start_idx': 100, 'end_id...   \n",
       "32466  {'word': '손병희', 'start_idx': 17, 'end_idx': 19...   \n",
       "32467  {'word': '신우철', 'start_idx': 7, 'end_idx': 9, ...   \n",
       "32468  {'word': '중앙홀딩스', 'start_idx': 21, 'end_idx': ...   \n",
       "32469  {'word': '구충곤', 'start_idx': 7, 'end_idx': 9, ...   \n",
       "\n",
       "                           label     source  \n",
       "0                    no_relation  wikipedia  \n",
       "1                    no_relation   wikitree  \n",
       "2                  org:member_of   wikitree  \n",
       "3      org:top_members/employees   wikitree  \n",
       "4                    no_relation  wikipedia  \n",
       "...                          ...        ...  \n",
       "32465            per:employee_of   wikitree  \n",
       "32466             per:colleagues  wikipedia  \n",
       "32467  org:top_members/employees   wikitree  \n",
       "32468                no_relation  wikipedia  \n",
       "32469  org:top_members/employees   wikitree  \n",
       "\n",
       "[32470 rows x 6 columns]"
      ]
     },
     "execution_count": 15,
     "metadata": {},
     "output_type": "execute_result"
    }
   ],
   "source": [
    "df = pd.read_csv(\"../dataset/train/train.csv\")\n",
    "df"
   ]
  },
  {
   "cell_type": "code",
   "execution_count": null,
   "metadata": {},
   "outputs": [],
   "source": [
    "import os\n",
    "from pathlib import Path\n",
    "df = pd.read_csv(\"../dataset/train/train.csv\")\n",
    "\n",
    "def read_file(file_list):\n",
    "    token_docs = []\n",
    "    tag_docs = []\n",
    "    for i in df.index:\n",
    "        \n",
    "        sentence = df['sentence'].iloc[i]\n",
    "        for j,k in zip(df['subject_entity'], df['object_entity']):\n",
    "            subject_start = int(i[1:-1].split(',')[1].split(':')[1])\n",
    "            subject_end = int(i[1:-1].split(',')[2].split(':')[1])\n",
    "            subject_type = i[1:-1].split(',')[3].split(':')[1][2:-1]\n",
    "            object_start = int(k[1:-1].split(',')[1].split(':')[1])\n",
    "            object_end = int(k[1:-1].split(',')[2].split(':')[1])\n",
    "            object_type = k[1:-1].split(',')[3].split(':')[1][2:-1]\n",
    "        \n",
    "        for idx in sentence:\n",
    "            tokens = []\n",
    "            tags = []\n",
    "            if idx == subject_start:\n",
    "                \n",
    "\n",
    "            token_docs.append(tokens)\n",
    "            tag_docs.append(tags)\n",
    "\n",
    "    return token_docs, tag_docs"
   ]
  },
  {
   "cell_type": "code",
   "execution_count": 23,
   "metadata": {},
   "outputs": [
    {
     "name": "stdout",
     "output_type": "stream",
     "text": [
      "[\"'word': '비틀즈'\", \" 'start_idx': 24\", \" 'end_idx': 26\", \" 'type': 'ORG'\"]\n"
     ]
    },
    {
     "data": {
      "text/plain": [
       "26"
      ]
     },
     "execution_count": 23,
     "metadata": {},
     "output_type": "execute_result"
    }
   ],
   "source": [
    "print(df['subject_entity'].iloc[0][1:-1].split(','))\n",
    "int(df['subject_entity'].iloc[0][1:-1].split(',')[1].split(':')[1])\n",
    "int(df['subject_entity'].iloc[0][1:-1].split(',')[2].split(':')[1])"
   ]
  },
  {
   "cell_type": "code",
   "execution_count": 32,
   "metadata": {},
   "outputs": [
    {
     "name": "stdout",
     "output_type": "stream",
     "text": [
      "[\"'word': '조지 해리슨'\", \" 'start_idx': 13\", \" 'end_idx': 18\", \" 'type': 'PER'\"]\n"
     ]
    },
    {
     "data": {
      "text/plain": [
       "'PER'"
      ]
     },
     "execution_count": 32,
     "metadata": {},
     "output_type": "execute_result"
    }
   ],
   "source": [
    "print(df['object_entity'].iloc[0][1:-1].split(','))\n",
    "df['object_entity'].iloc[0][1:-1].split(',')[1].split(':')[1]\n",
    "df['object_entity'].iloc[0][1:-1].split(',')[2].split(':')[1]\n",
    "df['object_entity'].iloc[0][1:-1].split(',')[3].split(':')[1][2:-1]"
   ]
  },
  {
   "cell_type": "code",
   "execution_count": 42,
   "metadata": {},
   "outputs": [
    {
     "name": "stdout",
     "output_type": "stream",
     "text": [
      "          id                                           sentence  \\\n",
      "20        20  1971년 대선을 앞두고 김종필은 1971년 선거에서 박정희 당선을 위해 무려 60...   \n",
      "157      157  아나킨 스카이워커는 미디클로리언 수치가 20000이 넘는, 선천적으로 가진 포스의 ...   \n",
      "276      276  《Riding with the King》은 2000년 발매된 에릭 클랩튼과 B.B....   \n",
      "282      282  2017년 문재인 정부의 정현백 장관은 \"여성혐오에 소극적으로 대처하는 건 더이상 ...   \n",
      "321      321  요한 바오로 2세는 요제프 라칭거 추기경(훗날의 교황 베네딕토 16세)과 함께 자유...   \n",
      "...      ...                                                ...   \n",
      "32188  32188  그 결과로서 밴스는 존 F. 케네디와 린든 B. 존슨 행정부에서 직위들의 계승에 근...   \n",
      "32277  32277  한편 김대중은 김종필, 박태준과 단일화에 합의하였고, 이에 불만을 품은 신한국당 역...   \n",
      "32284  32284  초반에는 도쿄에서 한 마을인 히나미자와 마을에 전학 온지 얼마 안된 소년 마에바라 ...   \n",
      "32328  32328  문 대통령은 이어진 환담 자리에서 싱 대사에게 지난 해 방중 시 시진핑 주석과 리커...   \n",
      "32466  32466  법포는 다시 최시형, 서병학, 손병희 직계인 북접과 다시 서장옥, 전봉준, 김개남을...   \n",
      "\n",
      "                                          subject_entity  \\\n",
      "20     {'word': '김종필', 'start_idx': 14, 'end_idx': 16...   \n",
      "157    {'word': '아나킨 스카이워커', 'start_idx': 0, 'end_idx...   \n",
      "276    {'word': 'B.B. 킹', 'start_idx': 42, 'end_idx':...   \n",
      "282    {'word': '정현백', 'start_idx': 14, 'end_idx': 16...   \n",
      "321    {'word': '베네딕토 16세', 'start_idx': 30, 'end_idx...   \n",
      "...                                                  ...   \n",
      "32188  {'word': '린든 B. 존슨', 'start_idx': 21, 'end_idx...   \n",
      "32277  {'word': '박태준', 'start_idx': 13, 'end_idx': 15...   \n",
      "32284  {'word': '마에바라 케이이치', 'start_idx': 41, 'end_id...   \n",
      "32328  {'word': '시진핑', 'start_idx': 36, 'end_idx': 38...   \n",
      "32466  {'word': '최시형', 'start_idx': 7, 'end_idx': 9, ...   \n",
      "\n",
      "                                           object_entity           label  \\\n",
      "20     {'word': '박정희', 'start_idx': 30, 'end_idx': 32...  per:colleagues   \n",
      "157    {'word': '콰이곤 진', 'start_idx': 64, 'end_idx': ...  per:colleagues   \n",
      "276    {'word': '에릭 클랩튼', 'start_idx': 34, 'end_idx':...  per:colleagues   \n",
      "282    {'word': '문재인', 'start_idx': 6, 'end_idx': 8, ...  per:colleagues   \n",
      "321    {'word': '요한 바오로 2세', 'start_idx': 0, 'end_idx...  per:colleagues   \n",
      "...                                                  ...             ...   \n",
      "32188  {'word': '존 F. 케네디', 'start_idx': 11, 'end_idx...  per:colleagues   \n",
      "32277  {'word': '김대중', 'start_idx': 3, 'end_idx': 5, ...  per:colleagues   \n",
      "32284  {'word': '히나미자와', 'start_idx': 16, 'end_idx': ...  per:colleagues   \n",
      "32328  {'word': '리커창', 'start_idx': 44, 'end_idx': 46...  per:colleagues   \n",
      "32466  {'word': '손병희', 'start_idx': 17, 'end_idx': 19...  per:colleagues   \n",
      "\n",
      "          source  \n",
      "20     wikipedia  \n",
      "157    wikipedia  \n",
      "276    wikipedia  \n",
      "282    wikipedia  \n",
      "321    wikipedia  \n",
      "...          ...  \n",
      "32188  wikipedia  \n",
      "32277  wikipedia  \n",
      "32284  wikipedia  \n",
      "32328   wikitree  \n",
      "32466  wikipedia  \n",
      "\n",
      "[534 rows x 6 columns]\n"
     ]
    }
   ],
   "source": [
    "print(df[df['label'] == \"per:colleagues\"])"
   ]
  },
  {
   "cell_type": "code",
   "execution_count": 46,
   "metadata": {},
   "outputs": [
    {
     "name": "stdout",
     "output_type": "stream",
     "text": [
      "초반에는 도쿄에서 한 마을인 히나미자와 마을에 전학 온지 얼마 안된 소년 마에바라 케이이치와 개성적인 동아리의 동료들과의 일상을 그리지만 중반 이후에 갑자기 발생하는 괴사건과 서스펜스가 공포 분위기를 두드러지게 한다.\n",
      "{'word': '마에바라 케이이치', 'start_idx': 41, 'end_idx': 49, 'type': 'PER'}\n",
      "{'word': '히나미자와', 'start_idx': 16, 'end_idx': 20, 'type': 'LOC'}\n",
      "per:colleagues\n"
     ]
    }
   ],
   "source": [
    "print(df.iloc[32284]['sentence'])\n",
    "print(df.iloc[32284]['subject_entity'])\n",
    "print(df.iloc[32284]['object_entity'])\n",
    "print(df.iloc[32284]['label'])"
   ]
  },
  {
   "cell_type": "code",
   "execution_count": 50,
   "metadata": {},
   "outputs": [
    {
     "name": "stdout",
     "output_type": "stream",
     "text": [
      "서병수 전 부산시장이 유시민 노무현재단 이사장을 향해 쓴소리했다. 2321\n",
      "29일 TBS '김어준의 뉴스공장'에 유시민 노무현재단 이사장이 출연했다. 3358\n",
      "유시민 노무현재단 이사장이 백년이 지나도 한국의 언론개혁이 이루어 지지 않을 것으로 내다봤다. 4430\n",
      "강인은 \"무엇보다 14년이란 오랜 시간 동안 언제나 과분한 사랑을 주신 E.L.F. 여러분들께 가장 죄송한 마음입니다\"라며 \"많이 늦었지만 슈퍼주니어란 이름을 내려놓고 홀로 걷는 길에도 항상 미안함과 고마움을 가슴에 새기고 나아가겠습니다\"라고 했다. 4534\n",
      "8월 29일, 유시민 노무현재단 이사장은 서울대학교 촛불 집회에 대하여 \"뒤에서 자유한국당 손길이 어른어른하는 거라고 본다\"며, 왜 마스크를 쓰고 집회하냐고 발언하여 논란을 빚었다. 7754\n",
      "그다음 시즌, 카이저슬라우테른은 1947 시즌에 프리츠 발터와 오트마어 발터에 큰힘을 입어 북부 조 (Gruppe Nord) 에서 손쉽게 우승을 거두었다. 13812\n",
      "유시민 노무현재단 이사장이 조국 사태에 \"인간이 무섭다는 생각이 든다\"고 말했다. 17550\n",
      "와타나베는 원래 [[연병관]](練兵館)의 우두머리로, 조슈 번의 중신 [[기도 다카요시]]나 [[다카스기 신사쿠]] 등과 막역한 사이였기 때문에, 료마는 와타나베에게 조슈 번에 로비를 의뢰했다. 20409\n",
      "유시민 노무현재단 이사장이 KBS 법조팀과 검찰의 유착 의혹을 제기했다. 22518\n",
      "산투스 복귀 후, 호비뉴는 발뒤꿈치로 그의 영입을 갈망했던 상파울루를 상대로 경기 종료 5분을 남기고 득점했고, \"물고기 군단\"은 2-1 승리를 쟁취했다. 25367\n"
     ]
    }
   ],
   "source": [
    "for i in df.index:\n",
    "    if df['label'].iloc[i] == \"per:colleagues\":\n",
    "        if df.iloc[i]['subject_entity'][1:-1].split(',')[3].split(':')[1].strip() == \"'ORG'\" or df.iloc[i]['object_entity'][1:-1].split(',')[3].split(':')[1].strip() == \"'ORG'\":\n",
    "            print(df.iloc[i]['sentence'], i)"
   ]
  },
  {
   "cell_type": "code",
   "execution_count": 51,
   "metadata": {},
   "outputs": [
    {
     "name": "stdout",
     "output_type": "stream",
     "text": [
      "서병수 전 부산시장이 유시민 노무현재단 이사장을 향해 쓴소리했다.\n",
      "{'word': '유시민', 'start_idx': 12, 'end_idx': 14, 'type': 'PER'}\n",
      "{'word': '노무현', 'start_idx': 16, 'end_idx': 18, 'type': 'ORG'}\n",
      "per:colleagues\n"
     ]
    }
   ],
   "source": [
    "print(df.iloc[2321]['sentence'])\n",
    "print(df.iloc[2321]['subject_entity'])\n",
    "print(df.iloc[2321]['object_entity'])\n",
    "print(df.iloc[2321]['label'])"
   ]
  },
  {
   "cell_type": "markdown",
   "metadata": {},
   "source": [
    "사람과 사람 관계이어야 하는 것들 확인"
   ]
  },
  {
   "cell_type": "code",
   "execution_count": 70,
   "metadata": {},
   "outputs": [
    {
     "name": "stdout",
     "output_type": "stream",
     "text": [
      "1725년(영조 1) 2월 18일에 화순옹주로 봉해졌으며, 1732년(영조 8) 영의정을 지낸 김흥경(金興慶)의 아들이자 추사 김정희의 증조부인 월성위(月城尉) 김한신(金漢藎)과 혼례를 치렀다. 708\n",
      "양평군의 어머니 숙의 이씨는 양성 이씨 출신으로, 중종 때 판의금부사와 좌찬성 등을 역임한 이손과 일가 친척이다. 843\n",
      "아버지는 덴마크 왕 덴마크의 크리스티안 9세, 어머니는 헤센카셀의 루이세이다. 1504\n",
      "그의 아들 성삼문, 성삼빙, 성삼고, 성삼성과 손자 네 명이 모두 처형당하여 그의 후사는 끊겼다. 가까운 친척으로는 그의 사촌 성희의 후손들이 살아남아 현존하고 있다. 1729\n",
      "로이히텐베르크의 요세피나는 조제핀이라는 이름으로 외젠 드 보아르네와 바이에른 공주 아우구스테의 장녀로 태어났다. 1992\n",
      "서병수 전 부산시장이 유시민 노무현재단 이사장을 향해 쓴소리했다. 2321\n",
      "29일 TBS '김어준의 뉴스공장'에 유시민 노무현재단 이사장이 출연했다. 3358\n",
      "공빈 김씨(恭嬪 金氏, 1553년 11월 16일 ~ 1577년 6월 13일) 또는 공성왕후(恭聖王后)는 조선의 제 14대 임금 선조의 빈이자 추존왕후이며 임해군, 광해군 형제의 생모이다. 3382\n",
      "마우리아-셀레우코스 전쟁 이후 찬드라굽타 마우리아는 인도 아대륙 안쪽으로 관심을 돌려 북인도뿐만 아니라 중부 인도와 남인도 지역에도 확장을 시도하였고 그 결과 마우리아 제국은 오디샤 지역의 칼링가와 타밀라캄 지역의 촐라, 판디아, 체라를 제외한 인도 아대륙 대부분을 통일하였지만, 찬드라굽타 마우리아 재위 말기인 기원전 298년에 마우리아 제국의 영토에 발생한 극심한 가뭄으로 인해 수많은 사람들이 기아로 사망하는 일이 발생하자 이에 충격을 받은 찬드라굽타 마우리아는 당시 그가 스승으로 모시던 자이나교 구루의 충고를 들은 후 정치에 손을 떼고 아들인 빈두사라에게 마우리아 제국의 황제 자리를 물려주었으며, 자이나교에 귀의하여 출가한 후 고행을 하다가 일생을 마쳤다. 4077\n",
      "남연군 이구와 여흥군부인 여흥 민씨의 셋째 아들이자 흥선대원군의 바로 윗 형이었다. 4313\n",
      "유시민 노무현재단 이사장이 백년이 지나도 한국의 언론개혁이 이루어 지지 않을 것으로 내다봤다. 4430\n",
      "강인은 \"무엇보다 14년이란 오랜 시간 동안 언제나 과분한 사랑을 주신 E.L.F. 여러분들께 가장 죄송한 마음입니다\"라며 \"많이 늦었지만 슈퍼주니어란 이름을 내려놓고 홀로 걷는 길에도 항상 미안함과 고마움을 가슴에 새기고 나아가겠습니다\"라고 했다. 4534\n",
      "연산군은 1476년 11월 23일 (음력 11월 7일) 조선 성종의 장자이자 성종의 계비인 폐비 윤씨의 아들로 경복궁 교태전에서 태어났으며 태어날 때부터 왕비 소생의 장자인 원자(元子)로 불렸다. 4908\n",
      "은신군의 양손자이며 남연군 이구와 군부인 여흥 민씨의 둘째 아들이다. 5357\n",
      "헤카톤케이레스의 아버지인 우라노스는 자신의 자식들인 이들 헤카톤케이레스와 외눈박이 키클롭스를 태어날 때부터 아주 싫어해서 어머니 가이아(대지)의 깊은 곳 타르타로스에 강력한 사슬로 묶고 감추어 두고 햇빛을 보지 못하게 만들었다. 6245\n",
      "빔비사라는 마가다의 기존 수도였던 기리브라자 인근에 있는 철광산 지역에 약 40킬로미터나 되는 성벽으로 에워싸인 신도시인 라자그리하를 건설한 후 그곳으로 천도하였고 기원전 538년에 갠지스 강의 델타 지대에 있는 중요한 항구국가인 앙가 왕국을 정복함으로서 갠지스 강의 항행(航行) 지배권을 장악하였으며, 아들인 아자타샤트루를 앙가의 총독으로 파견해 다스리게 하였다. 6291\n",
      "샤를 6세와 바이에른의 이자보 사이에서 태어난 막내딸로 발루아의 이자벨의 동생이자 샤를 7세의 누나이다. 6530\n",
      "김인문(金仁問, 629년~694년)은 신라의 왕족이자 문무왕 때의 장군 및 정치가이고, 태종무열왕의 둘째 아들이며 문무왕의 친동생이다. 7281\n",
      "헨리 스태포드의 부인 애슐리 폴(Ursula Pole)은 헨리 7세의 부인 요크의 엘리자베스의 사촌간으로 요크 왕조의 상속권을 갖고 있었다. 7669\n",
      "8월 29일, 유시민 노무현재단 이사장은 서울대학교 촛불 집회에 대하여 \"뒤에서 자유한국당 손길이 어른어른하는 거라고 본다\"며, 왜 마스크를 쓰고 집회하냐고 발언하여 논란을 빚었다. 7754\n",
      "1529년 헨리 8세는 아라곤의 캐서린과의 혼인 무효를 성사시키려고 의회를 소집하였다. 8273\n",
      "발루아 부르고뉴 공작 이라는 단어는 장 2세가 1363년에 그의 막내 아들 용담공 필리프에게 부르고뉴 공작 직위를 보장하면서, 왕조가 시작되었다. 12110\n",
      "람캄행 왕은 1237년에서 1247년 사이 수코타이의 왕 퍼쿤 씨 인트라팃과 쓰엉 부인 사이의 셋째 아들로 태어났다. 13042\n",
      "양평군은 문종의 딸 경혜공주의 유일한 아들인 정미수의 집과, 어머니 숙의 이씨의 일가 친척인 이손의 집에서 성장하였다. 13130\n",
      "그다음 시즌, 카이저슬라우테른은 1947 시즌에 프리츠 발터와 오트마어 발터에 큰힘을 입어 북부 조 (Gruppe Nord) 에서 손쉽게 우승을 거두었다. 13812\n",
      "공화백 왕영은 1126년 조선공(朝鮮公)과 인주 이씨의 손자이자 강릉공 온(江陵公 溫, ~1146)의 장남으로 태어났다. 14125\n",
      "조선 태조 이성계의 아들 무안대군 방번도 정양부원군 왕우의 사위이므로, 태조 이성계와는 겹사돈지간이 된다. 14606\n",
      "스페인의 마르가리타 테레사(1651년 8월 12일 ~ 1673년 3월 12일)는 신성 로마 제국의 황제 레오폴트 1세의 첫 번째 아내이다. 14675\n",
      "1542년 영의정 하동부원군 정인지의 손자로 지중추부사와 판중추부사를 지낸 정세호의 딸인 하동 정씨와 가례를 올리고 출궁하였다. 15299\n",
      "유시민 노무현재단 이사장이 조국 사태에 \"인간이 무섭다는 생각이 든다\"고 말했다. 17550\n",
      "조선왕조 10대 국왕으로 즉위한 연산군은 즉위하자마자 생모인 폐비 윤씨의 묘소에 사당을 세우고 지위를 격상하겠다고 하였지만 대부분 신하들은 선왕(조선 성종)의 유훈을 어기는 행동이라며 반대하였고 인수대비는 선왕인 성종의 유훈에 따라 100년이 지나도 폐비의 일에 관해서는 관여하지 말으라며 폐비 윤씨 지위를 격상하는데 반대한다. 17951\n",
      "변정수 씨는 1994년 21살의 나이에 7살 연상 남편과 결혼해 슬하에 두 딸 유채원, 유정원 씨를 두고 있다. 18355\n",
      "와타나베는 원래 [[연병관]](練兵館)의 우두머리로, 조슈 번의 중신 [[기도 다카요시]]나 [[다카스기 신사쿠]] 등과 막역한 사이였기 때문에, 료마는 와타나베에게 조슈 번에 로비를 의뢰했다. 20409\n",
      "유시민 노무현재단 이사장이 KBS 법조팀과 검찰의 유착 의혹을 제기했다. 22518\n",
      "아레스는 아프로디테와의 사이에서 공포를 뜻하는 포보스와 두려움을 뜻하는 데이모스, 에로스, 하르모니아를 낳았다. 23596\n",
      "두번째 부인 광산 김씨는 한성부의 명문 거족으로 사계 김장생과 허주 김반, 신독재 김집, 광남 김익훈의 후손이었다. 24661\n",
      "산투스 복귀 후, 호비뉴는 발뒤꿈치로 그의 영입을 갈망했던 상파울루를 상대로 경기 종료 5분을 남기고 득점했고, \"물고기 군단\"은 2-1 승리를 쟁취했다. 25367\n",
      "애쉬튼 커쳐는 이혼 후 2015년 친구였던 밀라 쿠니스와 결혼해 슬하에 1남 1녀를 두고 있다. 25598\n",
      "1985년 조용필을 필두로 이문세, 한영애, 김현식, 봄여름가을겨울, FT아일랜드, 박진영, DJ DOC, 조규찬, 왁스, 이기찬, 정수라, 나얼, 백지영, 김조한, 박정현 등 수많은 가수들이 그의 노래를 불렀다. 26603\n",
      "소헌왕후는 세종과의 사이에서 총 8남 2녀를 출산했는데, 이 중 3명의 자녀는 소헌왕후보다 일찍 세상을 떠난다. 26958\n",
      "이 연호가 사용된 시기는 예종의 모후인 측천무후(무측천)이 조정에 임해 칭제하면서 실권을 장악하고 있었던 시기와 겹치며 때문에 당 예종의 연호로써라기보다는 측천무후의 연호로 간주된다. 27298\n",
      "한편 숙녕궁주의 어머니 순비 노씨는 창성군 노진의 딸로, 1389년(공양왕 원년) 왕비에 책봉되었으며 정신궁주를 비롯한 1남 3녀를 낳았다. 30324\n",
      "1503년(연산군 9) 휘신공주는 부왕 생존시 구문경(具文璟)에게 출가하여 아들 구엄(具渰)을 두었다. 30398\n",
      "조선 숙종의 후궁이며 경종의 생모인 희빈 장씨의 사당. 30924\n",
      "사르데냐 왕국의 비토리오 아메데오 2세 국왕과 그의 아내인 오를레앙의 안나 마리아 왕비의 장남으로 태어났다. 32061\n",
      "국보와 보물로는 아래와 같은 것들이 있으며, 이것 외에도 흥선대원군의 아버지인 남연군을 장지까지 운반했던 국가민속문화재 제31호로 지정된 남은들상여가 있다. 32246\n",
      "초반에는 도쿄에서 한 마을인 히나미자와 마을에 전학 온지 얼마 안된 소년 마에바라 케이이치와 개성적인 동아리의 동료들과의 일상을 그리지만 중반 이후에 갑자기 발생하는 괴사건과 서스펜스가 공포 분위기를 두드러지게 한다. 32284\n",
      "칭기즈 칸의 씨족인 보르지긴은 황금씨족(알탄 우룩)이라 불리며, 영지 백성(우르스)으로 나뉜 천호・백호・십호 집단의 위에 상급 영주 계급으로써 군림했고, 몽골 황제 즉 대칸은 크고 작은 우르스의 가장 큰 부분을 가진 맹주였다. 32320\n",
      "48\n"
     ]
    }
   ],
   "source": [
    "k=0\n",
    "for i in df.index:\n",
    "    if df['label'].iloc[i] == \"per:colleagues\" or df['label'].iloc[i] == \"per:siblings\" or df['label'].iloc[i] == \"per:children\" or df['label'].iloc[i] == \"per:parents\" or df['label'].iloc[i] == \"per:spouse\" or df['label'].iloc[i] == \"per:other_family\" or df['label'].iloc[i] == \"per:other_family\":\n",
    "        if (df.iloc[i]['subject_entity'][1:-1].split(',')[3].split(':')[1].strip() != \"'PER'\" and df.iloc[i]['subject_entity'][1:-1].split(',')[3].split(':')[1].strip() != \"'POH'\") or (df.iloc[i]['object_entity'][1:-1].split(',')[3].split(':')[1].strip() != \"'PER'\" and df.iloc[i]['object_entity'][1:-1].split(',')[3].split(':')[1].strip() != \"'POH'\"):\n",
    "            print(df.iloc[i]['sentence'], i)\n",
    "            k+=1\n",
    "print(k)"
   ]
  },
  {
   "cell_type": "code",
   "execution_count": 69,
   "metadata": {},
   "outputs": [
    {
     "name": "stdout",
     "output_type": "stream",
     "text": [
      "칭기즈 칸의 씨족인 보르지긴은 황금씨족(알탄 우룩)이라 불리며, 영지 백성(우르스)으로 나뉜 천호・백호・십호 집단의 위에 상급 영주 계급으로써 군림했고, 몽골 황제 즉 대칸은 크고 작은 우르스의 가장 큰 부분을 가진 맹주였다.\n",
      "{'word': '칭기즈 칸', 'start_idx': 0, 'end_idx': 4, 'type': 'PER'}\n",
      "{'word': '보르지긴', 'start_idx': 11, 'end_idx': 14, 'type': 'ORG'}\n",
      "per:other_family\n"
     ]
    }
   ],
   "source": [
    "print(df.iloc[32320]['sentence'])\n",
    "print(df.iloc[32320]['subject_entity'])\n",
    "print(df.iloc[32320]['object_entity'])\n",
    "print(df.iloc[32320]['label'])"
   ]
  },
  {
   "cell_type": "code",
   "execution_count": 72,
   "metadata": {},
   "outputs": [
    {
     "name": "stdout",
     "output_type": "stream",
     "text": [
      "발레리나 출신인 최혜영씨는 1979년생으로 무용학과를 졸업했지만 2003년 교통사고로 사지마비 척수장애를 입고 무용수의 꿈을 접고, 여성 척수장애인 국내 최초로 재활학 박사가 됐다. 3033\n",
      "동치제(同治帝, 함풍(咸豊)(咸豊) 6년 3월 23일(1856년 4월 27일) ~ 동치(同治) 13년 12월 5일(1875년 1월 12일))은 중국 청 왕조의 제10대 황제(재위 1861년 ~ 1874년)이다. 6671\n",
      "광서제(光緖帝, 동치(同治)(同治) 10년 6월 28일(1871년 8월 14일) ~ 광서(光緖) 34년 10월 21일(1908년 11월 14일))는 청나라의 제11대 황제이다. 14741\n",
      "홍희제(洪熙帝, 홍무(洪武)(洪武) 11년 7월 23일(1378년 8월 16일) ~ 홍희(洪熙) 원년 5월 12일(1425년 5월 29일))는 중국 명나라의 제4대 황제(재위 1424년~1425년)이다. 18279\n",
      "페르시아 제국의 다리우스 3세가 알렉산드로스 대왕에게 패하자 그를 살해한 박트리아의 총독 베수스는 민족적 저항을 조직하려고 하였다. 19531\n",
      "우키타 히데이에(겐키 3년(1572년)(1572년) ~ 메이레키 원년(1655년 12월 17일))는 아즈치모모야마 시대의 비젠 오카야마성 다이묘이다. 20742\n",
      "브라마굽타(597–668)는 펠 방정식의 연구를 시작하였으며, 자야데바(Jayadeva, 9세기 경)가 펠 방정식의 해를 완성하였다. 22631\n",
      "쩐 영종(바오푸(寶符)(寶符) 4년 9월 17일(1276년 10월 27일) ~ 다이카인(大慶) 7년 3월 16일(1320년 4월 24일))은 베트남 쩐 왕조의 제4대 황제(재위 : 1293년 ~ 1314년)이다. 27484\n",
      "하지만, 김춘추와 문희의 첫번째 아들인 김법민(문무왕)이 626년생으로, 문희가 김법민을 임신했을때는 선덕여왕이 즉위하기 5년전인 진평왕 때라는 것이 된다. 27954\n",
      "요기 베라는 자신의 메이저 데뷔 일과 같은 날로 내보였던 2015년 9월 22일에는 뉴저지주 웨스트 칼드웰에 있는 고령자 집합 주택에서 자는 도중에 노환으로 자연사(별세)했다. 29357\n",
      "10\n"
     ]
    }
   ],
   "source": [
    "k=0\n",
    "for i in df.index:\n",
    "    if df['label'].iloc[i] == \"per:date_of_birth\" or df['label'].iloc[i] == \"per:date_of_death\":\n",
    "        if (df.iloc[i]['subject_entity'][1:-1].split(',')[3].split(':')[1].strip() != \"'PER'\" and df.iloc[i]['subject_entity'][1:-1].split(',')[3].split(':')[1].strip() != \"'POH'\") or (df.iloc[i]['object_entity'][1:-1].split(',')[3].split(':')[1].strip() != \"'DAT'\"):\n",
    "            print(df.iloc[i]['sentence'], i)\n",
    "            k+=1\n",
    "print(k)"
   ]
  },
  {
   "cell_type": "code",
   "execution_count": 74,
   "metadata": {},
   "outputs": [
    {
     "name": "stdout",
     "output_type": "stream",
     "text": [
      "발레리나 출신인 최혜영씨는 1979년생으로 무용학과를 졸업했지만 2003년 교통사고로 사지마비 척수장애를 입고 무용수의 꿈을 접고, 여성 척수장애인 국내 최초로 재활학 박사가 됐다.\n",
      "{'word': '최혜영', 'start_idx': 9, 'end_idx': 11, 'type': 'PER'}\n",
      "{'word': '1979년', 'start_idx': 15, 'end_idx': 19, 'type': 'NOH'}\n",
      "per:date_of_birth\n"
     ]
    }
   ],
   "source": [
    "print(df.iloc[3033]['sentence'])\n",
    "print(df.iloc[3033]['subject_entity'])\n",
    "print(df.iloc[3033]['object_entity'])\n",
    "print(df.iloc[3033]['label'])"
   ]
  },
  {
   "cell_type": "code",
   "execution_count": 75,
   "metadata": {},
   "outputs": [
    {
     "name": "stdout",
     "output_type": "stream",
     "text": [
      "동치제(同治帝, 함풍(咸豊)(咸豊) 6년 3월 23일(1856년 4월 27일) ~ 동치(同治) 13년 12월 5일(1875년 1월 12일))은 중국 청 왕조의 제10대 황제(재위 1861년 ~ 1874년)이다.\n",
      "{'word': '동치제', 'start_idx': 0, 'end_idx': 2, 'type': 'PER'}\n",
      "{'word': '동치(同治) 13년 12월 5일(1875년 1월 12일)', 'start_idx': 46, 'end_idx': 76, 'type': 'PER'}\n",
      "per:date_of_death\n"
     ]
    }
   ],
   "source": [
    "print(df.iloc[6671]['sentence'])\n",
    "print(df.iloc[6671]['subject_entity'])\n",
    "print(df.iloc[6671]['object_entity'])\n",
    "print(df.iloc[6671]['label'])"
   ]
  },
  {
   "cell_type": "code",
   "execution_count": null,
   "metadata": {},
   "outputs": [],
   "source": []
  }
 ],
 "metadata": {
  "interpreter": {
   "hash": "d4d1e4263499bec80672ea0156c357c1ee493ec2b1c70f0acce89fc37c4a6abe"
  },
  "kernelspec": {
   "display_name": "Python 3.8.12 ('base')",
   "language": "python",
   "name": "python3"
  },
  "language_info": {
   "codemirror_mode": {
    "name": "ipython",
    "version": 3
   },
   "file_extension": ".py",
   "mimetype": "text/x-python",
   "name": "python",
   "nbconvert_exporter": "python",
   "pygments_lexer": "ipython3",
   "version": "3.8.12"
  },
  "orig_nbformat": 4
 },
 "nbformat": 4,
 "nbformat_minor": 2
}
