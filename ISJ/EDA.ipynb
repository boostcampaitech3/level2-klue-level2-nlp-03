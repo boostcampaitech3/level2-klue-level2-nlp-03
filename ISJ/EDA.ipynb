{
 "cells": [
  {
   "cell_type": "code",
   "execution_count": null,
   "id": "593d45a4-8f80-4e2c-996c-62dc1cbdee3b",
   "metadata": {},
   "outputs": [],
   "source": [
    "import pandas as pd\n",
    "import numpy as np\n",
    "import seaborn as sns"
   ]
  },
  {
   "cell_type": "code",
   "execution_count": null,
   "id": "ca4694b1-e022-4b10-bb60-c3ef777c3c32",
   "metadata": {},
   "outputs": [],
   "source": [
    "# col 생략 없이 출력\n",
    "pd.set_option('display.max_columns', None)"
   ]
  },
  {
   "cell_type": "code",
   "execution_count": null,
   "id": "1e8fc602-810f-47b2-82df-4c0c639b66cf",
   "metadata": {},
   "outputs": [],
   "source": [
    "df = pd.read_csv('../dataset/train/train.csv')"
   ]
  },
  {
   "cell_type": "code",
   "execution_count": null,
   "id": "0f527ef5-6aa8-434e-84c9-568d96ba57e7",
   "metadata": {},
   "outputs": [],
   "source": [
    "df.head(5)"
   ]
  },
  {
   "cell_type": "code",
   "execution_count": null,
   "id": "a7e2334f-d57b-4d76-badd-9105f06a21c1",
   "metadata": {},
   "outputs": [],
   "source": [
    "df['source'].value_counts()"
   ]
  },
  {
   "cell_type": "markdown",
   "id": "7097bb70-8ce0-4563-ad9f-5187ed8e2ac9",
   "metadata": {
    "jp-MarkdownHeadingCollapsed": true,
    "tags": []
   },
   "source": [
    "## I. 기본 EDA"
   ]
  },
  {
   "cell_type": "markdown",
   "id": "d92f03a2-deb5-4c65-a368-429790849189",
   "metadata": {
    "tags": []
   },
   "source": [
    "### 1. Train Data 시각화"
   ]
  },
  {
   "cell_type": "markdown",
   "id": "7c6d0fa2-f3c9-4d01-bd80-cedcc05fbbf4",
   "metadata": {},
   "source": [
    "1-1.label 시각화"
   ]
  },
  {
   "cell_type": "code",
   "execution_count": null,
   "id": "40607dc9-48e0-485f-899c-5a92fbd839dd",
   "metadata": {},
   "outputs": [],
   "source": [
    "df['label'].value_counts()"
   ]
  },
  {
   "cell_type": "code",
   "execution_count": null,
   "id": "cc9c677b-131e-46e1-9b21-3d11f500eec4",
   "metadata": {},
   "outputs": [],
   "source": [
    "sns.set(rc = {'figure.figsize':(15,8)})\n",
    "sns.countplot(y='label', data=df, order=df['label'].value_counts().index)"
   ]
  },
  {
   "cell_type": "markdown",
   "id": "7e73594d-8c2d-4cc9-949f-3dfe4087d6a8",
   "metadata": {},
   "source": [
    "1-2. Sentence length 시각화"
   ]
  },
  {
   "cell_type": "code",
   "execution_count": null,
   "id": "ce3931a0-ea00-4f0c-a4c1-3f147b90b414",
   "metadata": {},
   "outputs": [],
   "source": [
    "df['sentlen'] = df['sentence'].apply(lambda x: len(x))"
   ]
  },
  {
   "cell_type": "code",
   "execution_count": null,
   "id": "0880db19-2152-4e3b-8df6-362225ebc830",
   "metadata": {},
   "outputs": [],
   "source": [
    "sns.set(rc = {'figure.figsize':(10,4)})\n",
    "sns.histplot(x='sentlen', data=df)\n",
    "print('min: ', min(df['sentlen']))\n",
    "print('max: ', max(df['sentlen'])) \n",
    "print('mean: ',df['sentlen'].mean())"
   ]
  },
  {
   "cell_type": "code",
   "execution_count": null,
   "id": "33ab0cf1-7f53-4b11-8e76-eb98d698467b",
   "metadata": {},
   "outputs": [],
   "source": [
    "df['sentlen'].describe()"
   ]
  },
  {
   "cell_type": "markdown",
   "id": "32d93c7f-dd84-4c23-a680-4a59b20a3b65",
   "metadata": {},
   "source": [
    "1-3.subject_entity, object_tntity 시각화"
   ]
  },
  {
   "cell_type": "code",
   "execution_count": null,
   "id": "33ca0913-d450-40fb-8f43-dc3c062294c3",
   "metadata": {},
   "outputs": [],
   "source": [
    "arr = []\n",
    "\n",
    "for i in range(df.shape[0]):\n",
    "    arr.append((eval(df['subject_entity'].iloc[i]))[\"type\"])\n",
    "\n",
    "df_sub = pd.DataFrame(arr)\n",
    "df_sub.columns = ['type']\n",
    "\n",
    "sns.set(rc = {'figure.figsize':(10,4)})\n",
    "sns.countplot(y='type', data=df_sub, order=df_sub['type'].value_counts().index)"
   ]
  },
  {
   "cell_type": "code",
   "execution_count": null,
   "id": "9e40a792-4ee0-42e9-bf79-732656bfe458",
   "metadata": {},
   "outputs": [],
   "source": [
    "arr = []\n",
    "\n",
    "for i in range(df.shape[0]):\n",
    "    arr.append((eval(df['object_entity'].iloc[i]))[\"type\"])\n",
    "\n",
    "df_obj = pd.DataFrame(arr)\n",
    "df_obj.columns = ['type']\n",
    "\n",
    "sns.set(rc = {'figure.figsize':(10,4)})\n",
    "sns.countplot(y='type', data=df_obj, order=df_obj['type'].value_counts().index)"
   ]
  },
  {
   "cell_type": "markdown",
   "id": "bd0cdcba-c00e-4fbd-89d0-00648b105d9b",
   "metadata": {
    "tags": []
   },
   "source": [
    "### 2. Test Data\n",
    "2-1. Test data 문장 길이 시각화"
   ]
  },
  {
   "cell_type": "code",
   "execution_count": null,
   "id": "302bdfa1-cd5a-4a71-b1ed-98a642e582ef",
   "metadata": {},
   "outputs": [],
   "source": [
    "df_test = pd.read_csv('../dataset/test/test_data.csv')\n",
    "df_test.head(5)"
   ]
  },
  {
   "cell_type": "code",
   "execution_count": null,
   "id": "8f7cd734-1aaa-4d40-9c68-e46fb28e7298",
   "metadata": {},
   "outputs": [],
   "source": [
    "df_test['sentlen'] = df_test['sentence'].apply(lambda x: len(x))\n",
    "sns.set(rc = {'figure.figsize':(10,4)})\n",
    "sns.histplot(x='sentlen', data=df_test)\n",
    "print(max(df['sentlen']))"
   ]
  },
  {
   "cell_type": "code",
   "execution_count": null,
   "id": "8cb73945-4d14-44e5-a568-8beadf4cbf24",
   "metadata": {},
   "outputs": [],
   "source": [
    "df_test['sentlen'].describe()"
   ]
  },
  {
   "cell_type": "markdown",
   "id": "ecd9a88f-addf-41ad-9310-aa9c3da1e270",
   "metadata": {},
   "source": [
    "2-2. subject_entity, object_entity 시각화"
   ]
  },
  {
   "cell_type": "code",
   "execution_count": null,
   "id": "a63a6101-ba9c-451a-a4a7-847f51d909a2",
   "metadata": {},
   "outputs": [],
   "source": [
    "arr = []\n",
    "\n",
    "for i in range(df_test.shape[0]):\n",
    "    arr.append((eval(df_test['subject_entity'].iloc[i]))[\"type\"])\n",
    "\n",
    "df_test_sub = pd.DataFrame(arr)\n",
    "df_test_sub.columns = ['type']   \n",
    "\n",
    "sns.set(rc = {'figure.figsize':(10,4)})\n",
    "sns.countplot(y='type', data=df_test_sub, order=df_test_sub['type'].value_counts().index)"
   ]
  },
  {
   "cell_type": "code",
   "execution_count": null,
   "id": "2b15c063-0a9d-4408-b095-af0abbca7428",
   "metadata": {},
   "outputs": [],
   "source": [
    "df_test_sub['type'].value_counts()"
   ]
  },
  {
   "cell_type": "code",
   "execution_count": null,
   "id": "65717956-fab5-4911-91a3-84c88cecfbee",
   "metadata": {},
   "outputs": [],
   "source": [
    "arr = []\n",
    "\n",
    "for i in range(df_test.shape[0]):\n",
    "    arr.append((eval(df_test['object_entity'].iloc[i]))[\"type\"])\n",
    "\n",
    "df_test_obj = pd.DataFrame(arr)\n",
    "df_test_obj.columns = ['type']\n",
    "\n",
    "sns.set(rc = {'figure.figsize':(10,4)})\n",
    "sns.countplot(y='type', data=df_test_obj, order=df_test_obj['type'].value_counts().index)\n"
   ]
  },
  {
   "cell_type": "markdown",
   "id": "be9f22bd-afaa-4b78-8d12-9b8d72cb4391",
   "metadata": {
    "jp-MarkdownHeadingCollapsed": true,
    "tags": []
   },
   "source": [
    "## II. Train - 중복되는 데이터 조사"
   ]
  },
  {
   "cell_type": "markdown",
   "id": "da5be39d-3e7f-400f-9073-f9e759d862c7",
   "metadata": {
    "jp-MarkdownHeadingCollapsed": true,
    "tags": []
   },
   "source": [
    "### 1. 문장 여러 개 중복되는 것"
   ]
  },
  {
   "cell_type": "code",
   "execution_count": null,
   "id": "115f4d91-ce11-4537-8798-2b1e25970036",
   "metadata": {},
   "outputs": [],
   "source": [
    "df_num_sentence = df['sentence'].value_counts()"
   ]
  },
  {
   "cell_type": "code",
   "execution_count": null,
   "id": "610ae824-6ded-465d-890b-43f5566c5702",
   "metadata": {},
   "outputs": [],
   "source": [
    "dict_num_sentence = dict(df_num_sentence)\n",
    "keys_more_than_one = [key for key in dict_num_sentence.keys() if dict_num_sentence[key]>1]\n",
    "print('2개 이상 존재하는 문장의 개수:', len(keys_more_than_one))\n",
    "#sentence_more_than_one = dict_num_sentence[keys_more_than_one]"
   ]
  },
  {
   "cell_type": "code",
   "execution_count": null,
   "id": "28aa0e5a-88d6-41b6-b95d-066050f572b0",
   "metadata": {},
   "outputs": [],
   "source": [
    "for k in keys_more_than_one[:10]:\n",
    "    print(k, dict_num_sentence[k])"
   ]
  },
  {
   "cell_type": "markdown",
   "id": "da5426e2-51fb-4c32-b423-7f2ed5cb26a1",
   "metadata": {
    "jp-MarkdownHeadingCollapsed": true,
    "tags": []
   },
   "source": [
    "### 2. Subject Entity 중복되는 것"
   ]
  },
  {
   "cell_type": "code",
   "execution_count": null,
   "id": "36f063cf-7e34-4471-9c1f-30b524cee537",
   "metadata": {},
   "outputs": [],
   "source": [
    "df_num_subj_entity = df['subject_entity'].value_counts()"
   ]
  },
  {
   "cell_type": "code",
   "execution_count": null,
   "id": "d3ac8e0e-0dd0-48b3-b5de-a70e1bc04510",
   "metadata": {},
   "outputs": [],
   "source": [
    "dict_num_subj_entity = dict(df_num_subj_entity)\n",
    "keys_more_than_one = [key for key in dict_num_subj_entity.keys() if dict_num_subj_entity[key]>1]\n",
    "print('2개 이상 존재하는 subject entity의 개수:', len(keys_more_than_one))\n",
    "#sentence_more_than_one = dict_num_sentence[keys_more_than_one]"
   ]
  },
  {
   "cell_type": "code",
   "execution_count": null,
   "id": "448eb28d-64bd-463f-a832-3fe232ab3083",
   "metadata": {},
   "outputs": [],
   "source": [
    "for k in keys_more_than_one[:10]:\n",
    "    print(k, dict_num_subj_entity[k])"
   ]
  },
  {
   "cell_type": "markdown",
   "id": "33a74a0c-66bb-44d7-a297-ff1d1c9a4784",
   "metadata": {
    "jp-MarkdownHeadingCollapsed": true,
    "tags": []
   },
   "source": [
    "### 3. Object Entity 중복되는 것"
   ]
  },
  {
   "cell_type": "code",
   "execution_count": null,
   "id": "ce99f3a6-d8ae-45b9-8898-21be23b426f7",
   "metadata": {},
   "outputs": [],
   "source": [
    "df_num_obj_entity = df['object_entity'].value_counts()"
   ]
  },
  {
   "cell_type": "code",
   "execution_count": null,
   "id": "4e52e6e1-cb05-47ae-a73f-658b1c866665",
   "metadata": {},
   "outputs": [],
   "source": [
    "dict_num_obj_entity = dict(df_num_obj_entity)\n",
    "keys_more_than_one = [key for key in dict_num_obj_entity.keys() if dict_num_obj_entity[key]>1]\n",
    "print('2개 이상 존재하는 object entity의 개수:', len(keys_more_than_one))\n",
    "#sentence_more_than_one = dict_num_sentence[keys_more_than_one]"
   ]
  },
  {
   "cell_type": "code",
   "execution_count": null,
   "id": "ba151875-d3b6-4fbb-803c-6fb691476536",
   "metadata": {},
   "outputs": [],
   "source": [
    "for k in keys_more_than_one[:10]:\n",
    "    print(k, dict_num_obj_entity[k])"
   ]
  },
  {
   "cell_type": "markdown",
   "id": "2de4cf19-db19-4268-8c8b-2058ae57f33a",
   "metadata": {
    "jp-MarkdownHeadingCollapsed": true,
    "tags": []
   },
   "source": [
    "### 4. Subject Entity 와 Object Entity 세트가 중복되는 것"
   ]
  },
  {
   "cell_type": "code",
   "execution_count": null,
   "id": "63e05b11-3c5d-407f-aeee-ac34e7b858ab",
   "metadata": {},
   "outputs": [],
   "source": [
    "df_num_entity_pair = df[['subject_entity', 'object_entity']].value_counts()"
   ]
  },
  {
   "cell_type": "code",
   "execution_count": null,
   "id": "72235108-2c74-4604-b060-ba10d201065c",
   "metadata": {},
   "outputs": [],
   "source": [
    "dict_num_entity_pair = dict(df_num_entity_pair)\n",
    "keys_more_than_one = [key for key in dict_num_entity_pair.keys() if dict_num_entity_pair[key]>1]\n",
    "print('2개 이상 존재하는 entity pair의 개수:', len(keys_more_than_one))\n",
    "#sentence_more_than_one = dict_num_sentence[keys_more_than_one]"
   ]
  },
  {
   "cell_type": "code",
   "execution_count": null,
   "id": "be342962-ed58-44f6-89d8-331d1ed68cee",
   "metadata": {},
   "outputs": [],
   "source": [
    "for k in keys_more_than_one[:5]:\n",
    "    print(k, dict_num_entity_pair[k])\n",
    "    print()"
   ]
  },
  {
   "cell_type": "code",
   "execution_count": null,
   "id": "a91a9561-30fb-4b44-a1bc-920051627595",
   "metadata": {},
   "outputs": [],
   "source": [
    "df[df['subject_entity']==\"{'word': '화순군', 'start_idx': 0, 'end_idx': 2, 'type': 'ORG'}\"]"
   ]
  },
  {
   "cell_type": "markdown",
   "id": "053f4dff-2385-4cca-abed-17fd1916f45f",
   "metadata": {
    "jp-MarkdownHeadingCollapsed": true,
    "tags": []
   },
   "source": [
    "### 5. Subject Entity & Object Entity & Sentence 세트가 중복되는 것"
   ]
  },
  {
   "cell_type": "code",
   "execution_count": null,
   "id": "ba6d298a-c11e-496e-a7a8-fbf3be264298",
   "metadata": {},
   "outputs": [],
   "source": [
    "df_num_sent= df[['sentence','subject_entity', 'object_entity']].value_counts()"
   ]
  },
  {
   "cell_type": "code",
   "execution_count": null,
   "id": "273e84d5-0662-4b10-8325-16240780c50c",
   "metadata": {},
   "outputs": [],
   "source": [
    "dict_num_sent = dict(df_num_sent)\n",
    "keys_more_than_one = [key for key in dict_num_sent.keys() if dict_num_sent [key]>1]\n",
    "print('2개 이상 존재하는 Subject Entity & Object Entity & Sentence set의 개수:', len(keys_more_than_one))"
   ]
  },
  {
   "cell_type": "code",
   "execution_count": null,
   "id": "5bb864d1-93c9-41e6-9dae-56c4f0eb67c1",
   "metadata": {},
   "outputs": [],
   "source": [
    "for k in keys_more_than_one[:5]:\n",
    "    print(k, dict_num_sent[k])\n",
    "    print()"
   ]
  },
  {
   "cell_type": "markdown",
   "id": "84cc49e9-1663-4a70-94bd-8d0b63001fc6",
   "metadata": {
    "jp-MarkdownHeadingCollapsed": true,
    "tags": []
   },
   "source": [
    "### 6. Subject Entity & Object Entity & Label 세트가 중복되는 것"
   ]
  },
  {
   "cell_type": "code",
   "execution_count": null,
   "id": "70692533-2354-4af2-83d8-3d4d5affea01",
   "metadata": {},
   "outputs": [],
   "source": [
    "df_num_entity_label_set = df[['subject_entity', 'object_entity', 'label']].value_counts()"
   ]
  },
  {
   "cell_type": "code",
   "execution_count": null,
   "id": "6904200b-f1b2-4873-a169-264c2934dd68",
   "metadata": {},
   "outputs": [],
   "source": [
    "dict_num_entity_label_set = dict(df_num_entity_label_set)\n",
    "keys_more_than_one = [key for key in dict_num_entity_label_set.keys() if dict_num_entity_label_set[key]>1]\n",
    "print('2개 이상 존재하는 entity pair & label set의 개수:', len(keys_more_than_one))"
   ]
  },
  {
   "cell_type": "code",
   "execution_count": null,
   "id": "4b5e9d64-be4f-44e7-9492-37587d04ed1d",
   "metadata": {},
   "outputs": [],
   "source": [
    "for k in keys_more_than_one[:5]:\n",
    "    print(k, dict_num_entity_label_set[k])\n",
    "    print()"
   ]
  },
  {
   "cell_type": "markdown",
   "id": "f2b3c8f6-6b80-49a4-acad-b2eeb4ff4487",
   "metadata": {
    "jp-MarkdownHeadingCollapsed": true,
    "tags": []
   },
   "source": [
    "### 7. 그냥 아예 다 똑같은 애들 (Sentence & Subject Entity & Object Entity & Label, source는 제외) 세트가 중복되는 것"
   ]
  },
  {
   "cell_type": "code",
   "execution_count": null,
   "id": "bfee5d87-9c33-46ef-9c47-eaed54e831a1",
   "metadata": {},
   "outputs": [],
   "source": [
    "df_num_all_except_source = df[['sentence','object_entity', 'subject_entity', 'label']].value_counts()"
   ]
  },
  {
   "cell_type": "code",
   "execution_count": null,
   "id": "2f028b2e-c835-400e-b944-cc94e7be7e94",
   "metadata": {},
   "outputs": [],
   "source": [
    "dict_num_all_except_source = dict(df_num_all_except_source)\n",
    "keys_more_than_one = [key for key in dict_num_all_except_source.keys() if dict_num_all_except_source[key]>1]\n",
    "print('source를 제외한 모든 feature가 중복되는 사례의 개수:', len(keys_more_than_one))"
   ]
  },
  {
   "cell_type": "code",
   "execution_count": null,
   "id": "5869ca51-373d-476a-9718-7a6221554f73",
   "metadata": {},
   "outputs": [],
   "source": [
    "for k in keys_more_than_one[:10]:\n",
    "    print(k, dict_num_all_except_source[k])\n",
    "    print()"
   ]
  },
  {
   "cell_type": "markdown",
   "id": "beaed2da-1668-4a92-8552-9f1ded17faff",
   "metadata": {
    "jp-MarkdownHeadingCollapsed": true,
    "tags": []
   },
   "source": [
    "### 8. 그냥 아예 다 똑같은 애들 (Sentence & Subject Entity & Object Entity & Label + Source까지 똑같은 애들) 세트가 중복되는 것"
   ]
  },
  {
   "cell_type": "code",
   "execution_count": null,
   "id": "6545f20d-e5a6-444e-8976-472a5b75888d",
   "metadata": {},
   "outputs": [],
   "source": [
    "df.head(5)"
   ]
  },
  {
   "cell_type": "code",
   "execution_count": null,
   "id": "1aa777dd-d58f-44a8-92c5-42b5638f5348",
   "metadata": {},
   "outputs": [],
   "source": [
    "df_num_all_same = df[['sentence','object_entity', 'subject_entity', 'label', 'source']].value_counts() # id는 모두 다르므로 제외"
   ]
  },
  {
   "cell_type": "code",
   "execution_count": null,
   "id": "a4df1654-9609-4720-9e1a-a960e11bfb45",
   "metadata": {},
   "outputs": [],
   "source": [
    "dict_num_all_same = dict(df_num_all_same)\n",
    "keys_more_than_one = [key for key in dict_num_all_same.keys() if dict_num_all_same[key] > 1]\n",
    "print('모든 feature가 중복되는 사례의 개수:', len(keys_more_than_one)) # 6번이랑 값이 같으면 모든 중복되는 문장은 같은 source에서 출현 즉 6번==7번"
   ]
  },
  {
   "cell_type": "code",
   "execution_count": null,
   "id": "5e111683-edf8-4a2f-b1a0-450f064f1a87",
   "metadata": {},
   "outputs": [],
   "source": [
    "for k in keys_more_than_one[:10]:\n",
    "    print(k, dict_num_all_same[k])\n",
    "    print()"
   ]
  },
  {
   "cell_type": "markdown",
   "id": "4a0a1e40-bed2-4fc9-8c91-72cc6ef26c21",
   "metadata": {
    "jp-MarkdownHeadingCollapsed": true,
    "tags": []
   },
   "source": [
    "## III. Test - 중복되는 데이터 조사"
   ]
  },
  {
   "cell_type": "code",
   "execution_count": null,
   "id": "df81b3ad-8d9c-4969-84c8-c1f24d57716a",
   "metadata": {},
   "outputs": [],
   "source": [
    "df_test.head(5)"
   ]
  },
  {
   "cell_type": "markdown",
   "id": "7f23ca7a-603a-4d4d-8c99-6a3b149cc8f0",
   "metadata": {
    "tags": []
   },
   "source": [
    "### 1. Sentence 중복"
   ]
  },
  {
   "cell_type": "code",
   "execution_count": null,
   "id": "a4b0efe6-619f-4a5f-afb1-327a408eb19a",
   "metadata": {},
   "outputs": [],
   "source": [
    "df_test_num_sentence = df_test['sentence'].value_counts()"
   ]
  },
  {
   "cell_type": "code",
   "execution_count": null,
   "id": "d3578ea4-2561-4514-9172-8cfdf9497d87",
   "metadata": {},
   "outputs": [],
   "source": [
    "dict_test_num_sentence = dict(df_test_num_sentence)\n",
    "keys_more_than_one = [key for key in dict_test_num_sentence.keys() if dict_test_num_sentence[key]>1]\n",
    "print('2개 이상 존재하는 문장의 개수:', len(keys_more_than_one))\n",
    "#sentence_more_than_one = dict_num_sentence[keys_more_than_one]"
   ]
  },
  {
   "cell_type": "code",
   "execution_count": null,
   "id": "3903d2ab-712a-4334-8e61-f668c4997e76",
   "metadata": {},
   "outputs": [],
   "source": [
    "for k in keys_more_than_one[:10]:\n",
    "    print(k, dict_test_num_sentence[k])"
   ]
  },
  {
   "cell_type": "markdown",
   "id": "af1955de-d369-4da1-8401-2d1f8c015ef8",
   "metadata": {
    "tags": []
   },
   "source": [
    "### 2. Subject Entity 중복"
   ]
  },
  {
   "cell_type": "code",
   "execution_count": null,
   "id": "ce0d0d97-6cde-4272-a34a-725f8f2fbb15",
   "metadata": {},
   "outputs": [],
   "source": [
    "df_test_num_subj_entity = df_test['subject_entity'].value_counts()"
   ]
  },
  {
   "cell_type": "code",
   "execution_count": null,
   "id": "dd0048cb-49eb-4f6e-b9b6-d5ba70ddbd35",
   "metadata": {},
   "outputs": [],
   "source": [
    "dict_test_num_subj_entity = dict(df_test_num_subj_entity)\n",
    "keys_more_than_one = [key for key in dict_test_num_subj_entity.keys() if dict_test_num_subj_entity[key]>1]\n",
    "print('2개 이상 존재하는 subject entity의 개수:', len(keys_more_than_one))"
   ]
  },
  {
   "cell_type": "code",
   "execution_count": null,
   "id": "0a519202-5dd0-4f54-a418-5fdde957501c",
   "metadata": {},
   "outputs": [],
   "source": [
    "for k in keys_more_than_one[:10]:\n",
    "    print(k, dict_test_num_subj_entity[k])"
   ]
  },
  {
   "cell_type": "markdown",
   "id": "5d9884ee-2b0e-47ca-9c7e-b47cb260415a",
   "metadata": {
    "tags": []
   },
   "source": [
    "### 3. Object Entity 중복 "
   ]
  },
  {
   "cell_type": "code",
   "execution_count": null,
   "id": "33f0d0ab-69e5-4d96-bb8b-ce8c5213140e",
   "metadata": {},
   "outputs": [],
   "source": [
    "df_test_num_obj_entity = df_test['object_entity'].value_counts()"
   ]
  },
  {
   "cell_type": "code",
   "execution_count": null,
   "id": "5d99b9da-8321-4226-96cf-74ba51662468",
   "metadata": {},
   "outputs": [],
   "source": [
    "dict_test_num_obj_entity = dict(df_test_num_obj_entity)\n",
    "keys_more_than_one = [key for key in dict_test_num_obj_entity.keys() if dict_test_num_obj_entity[key]>1]\n",
    "print('2개 이상 존재하는 object entity의 개수:', len(keys_more_than_one))"
   ]
  },
  {
   "cell_type": "code",
   "execution_count": null,
   "id": "e869e633-3ac8-4a92-9c09-ccf07c73175f",
   "metadata": {},
   "outputs": [],
   "source": [
    "for k in keys_more_than_one[:10]:\n",
    "    print(k, dict_test_num_obj_entity[k])"
   ]
  },
  {
   "cell_type": "markdown",
   "id": "9c156060-2f1b-436e-86e5-682f78179263",
   "metadata": {
    "tags": []
   },
   "source": [
    "### 4. Subject Entity 와 Object Entity 세트 중복"
   ]
  },
  {
   "cell_type": "code",
   "execution_count": null,
   "id": "49aefdcd-f3da-4144-858b-7709263b607f",
   "metadata": {},
   "outputs": [],
   "source": [
    "df_test_num_entity_pair = df_test[['object_entity', 'subject_entity']].value_counts()"
   ]
  },
  {
   "cell_type": "code",
   "execution_count": null,
   "id": "4e5f5ba6-d056-460a-a65d-3091a2172c83",
   "metadata": {},
   "outputs": [],
   "source": [
    "dict_test_num_entity_pair = dict(df_test_num_entity_pair)\n",
    "keys_more_than_one = [key for key in dict_test_num_entity_pair.keys() if dict_test_num_entity_pair[key]>1]\n",
    "print('2개 이상 존재하는 entity pair의 개수:', len(keys_more_than_one))\n",
    "#sentence_more_than_one = dict_num_sentence[keys_more_than_one]"
   ]
  },
  {
   "cell_type": "code",
   "execution_count": null,
   "id": "dc011976-125f-4e54-b03a-fb60edcf2aff",
   "metadata": {},
   "outputs": [],
   "source": [
    "for k in keys_more_than_one[:10]:\n",
    "    print(k, dict_test_num_entity_pair[k])\n",
    "    print()"
   ]
  },
  {
   "cell_type": "markdown",
   "id": "2c916974-d5c3-4be7-a8b9-5383d84391cb",
   "metadata": {
    "tags": []
   },
   "source": [
    "### 5. Sentence & Subject Entity & Object Entity 중복"
   ]
  },
  {
   "cell_type": "code",
   "execution_count": null,
   "id": "5ccb2292-0a0d-443f-9ccc-b9df89d55cb0",
   "metadata": {},
   "outputs": [],
   "source": [
    "df_test_sent_entity = df[['sentence','subject_entity', 'object_entity']].value_counts()"
   ]
  },
  {
   "cell_type": "code",
   "execution_count": null,
   "id": "fbe56ab5-aa2e-4e87-af38-5a1f950c5610",
   "metadata": {},
   "outputs": [],
   "source": [
    "dict_test_sent_entity = dict(df_test_sent_entity)\n",
    "keys_more_than_one = [key for key in dict_test_sent_entity.keys() if dict_test_sent_entity[key]>1]\n",
    "print('2개 이상 존재하는 Sentence & Subject Entity & Object Entity set의 개수:', len(keys_more_than_one))"
   ]
  },
  {
   "cell_type": "code",
   "execution_count": null,
   "id": "e2d9c3f2-7340-4447-8ac6-72914863ca73",
   "metadata": {},
   "outputs": [],
   "source": [
    "for k in keys_more_than_one[:5]:\n",
    "    print(k, dict_test_sent_entity[k])\n",
    "    print()"
   ]
  },
  {
   "cell_type": "markdown",
   "id": "65951150-fad7-48f2-b277-13d159271521",
   "metadata": {
    "tags": []
   },
   "source": [
    "### 6. Sentence & Subject Entity & Object Entity & Source 중복"
   ]
  },
  {
   "cell_type": "code",
   "execution_count": null,
   "id": "25003bf4-da26-4764-a26b-3c4b96c82671",
   "metadata": {},
   "outputs": [],
   "source": [
    "df_test_all = df[['sentence','subject_entity', 'object_entity', 'source']].value_counts()"
   ]
  },
  {
   "cell_type": "code",
   "execution_count": null,
   "id": "59205a01-c2c9-4a18-8fed-b2c02cb4af40",
   "metadata": {},
   "outputs": [],
   "source": [
    "dict_test_all = dict(df_test_all)\n",
    "keys_more_than_one = [key for key in dict_test_all.keys() if dict_test_all[key]>1]\n",
    "print('모든 feature가 중복되는 사례의 개수:', len(keys_more_than_one))"
   ]
  },
  {
   "cell_type": "code",
   "execution_count": null,
   "id": "35927a8e-c112-4120-a9db-7907b34ab44b",
   "metadata": {},
   "outputs": [],
   "source": [
    "for k in keys_more_than_one[:5]:\n",
    "    print(k, dict_test_all[k])\n",
    "    print()"
   ]
  },
  {
   "cell_type": "markdown",
   "id": "3267e1fb-7183-4efd-af12-5ba585e065d9",
   "metadata": {
    "jp-MarkdownHeadingCollapsed": true,
    "tags": []
   },
   "source": [
    "## IV. Train - No Relation은 어떤 애들일까?"
   ]
  },
  {
   "cell_type": "code",
   "execution_count": null,
   "id": "7655f777-75c7-429b-8e47-0e0863c55ae3",
   "metadata": {},
   "outputs": [],
   "source": [
    "df['label'].value_counts()"
   ]
  },
  {
   "cell_type": "code",
   "execution_count": null,
   "id": "3001d135-a44c-4644-a437-fc8edba4c5ff",
   "metadata": {},
   "outputs": [],
   "source": [
    "df.head(5)"
   ]
  },
  {
   "cell_type": "code",
   "execution_count": null,
   "id": "b1c3dd26-1385-4a6b-9c9e-19f88dbb7a80",
   "metadata": {},
   "outputs": [],
   "source": [
    "df[df['label']=='no_relation'].head(10)"
   ]
  },
  {
   "cell_type": "markdown",
   "id": "47892da3-9ab9-49c4-af5f-2785c55e9cee",
   "metadata": {
    "tags": []
   },
   "source": [
    "## V. Train - Entities 살펴보기"
   ]
  },
  {
   "cell_type": "markdown",
   "id": "d7ef1b85-e30b-4156-9312-ca4c59e955fe",
   "metadata": {
    "jp-MarkdownHeadingCollapsed": true,
    "tags": []
   },
   "source": [
    "### 1. subject가 object보다 항상 앞에 있는가? - no"
   ]
  },
  {
   "cell_type": "markdown",
   "id": "be3738ae-29e1-498a-bcb5-76a1ba8dd2f6",
   "metadata": {},
   "source": [
    "no. 아래 id=4를 보면 1967이 먼저 나온다."
   ]
  },
  {
   "cell_type": "code",
   "execution_count": null,
   "id": "d7637a4f-0828-460b-ae43-62daffd2edda",
   "metadata": {},
   "outputs": [],
   "source": [
    "df[df['label']=='no_relation'].head(5)"
   ]
  },
  {
   "cell_type": "markdown",
   "id": "3c35d120-d166-4748-83a1-0c35b25556c4",
   "metadata": {
    "jp-MarkdownHeadingCollapsed": true,
    "tags": []
   },
   "source": [
    "### 2. 새로운 DF 만들기 - Subject & Object 에서 word, type만 모아서 정리"
   ]
  },
  {
   "cell_type": "markdown",
   "id": "45337a2c-3e8c-457b-8d4d-48bfd644fff8",
   "metadata": {},
   "source": [
    "2-1. Subject"
   ]
  },
  {
   "cell_type": "code",
   "execution_count": null,
   "id": "ad5ee5e9-fe3e-4e8c-af4e-90180b50fe72",
   "metadata": {},
   "outputs": [],
   "source": [
    "arr = []\n",
    "subj_word = []\n",
    "start = []\n",
    "end = []\n",
    "\n",
    "for i in range(df.shape[0]):\n",
    "    arr.append((eval(df['subject_entity'].iloc[i]))[\"type\"])\n",
    "    subj_word.append((eval(df['subject_entity'].iloc[i]))[\"word\"])\n",
    "    start.append((eval(df['subject_entity'].iloc[i]))[\"start_idx\"])\n",
    "    end.append((eval(df['subject_entity'].iloc[i]))[\"end_idx\"])\n",
    "    \n",
    "\n",
    "df_entity = pd.DataFrame(arr)\n",
    "df_entity.columns = ['subj_type']\n",
    "df_entity['subj_word'] = subj_word\n",
    "df_entity['subj_start'] = start\n",
    "df_entity['subj_end'] = end"
   ]
  },
  {
   "cell_type": "markdown",
   "id": "fd12a457-b157-4aec-84d6-10b6867d70b6",
   "metadata": {},
   "source": [
    "2-2.Object"
   ]
  },
  {
   "cell_type": "code",
   "execution_count": null,
   "id": "ed996e45-32d0-421b-b7b9-84c686af3c75",
   "metadata": {},
   "outputs": [],
   "source": [
    "arr = []\n",
    "obj_word = []\n",
    "start = []\n",
    "end = []\n",
    "\n",
    "for i in range(df.shape[0]):\n",
    "    arr.append((eval(df['object_entity'].iloc[i]))[\"type\"])\n",
    "    obj_word.append((eval(df['object_entity'].iloc[i]))[\"word\"])\n",
    "    start.append((eval(df['object_entity'].iloc[i]))[\"start_idx\"])\n",
    "    end.append((eval(df['object_entity'].iloc[i]))[\"end_idx\"])\n",
    "\n",
    "df_entity['obj_type'] = arr\n",
    "df_entity['obj_word'] = obj_word\n",
    "df_entity['obj_start'] = start\n",
    "df_entity['obj_end'] = end\n",
    "\n",
    "df_entity['label'] = df['label']"
   ]
  },
  {
   "cell_type": "code",
   "execution_count": null,
   "id": "22f2f2b1-b061-4042-9b92-2e846c9e75e6",
   "metadata": {},
   "outputs": [],
   "source": [
    "df_entity"
   ]
  },
  {
   "cell_type": "code",
   "execution_count": null,
   "id": "1d93c029-73e1-41b1-bc1e-a94c16fa9cdc",
   "metadata": {},
   "outputs": [],
   "source": [
    "df_entity.to_csv('../dataset/train/train_only_entity.csv')"
   ]
  },
  {
   "cell_type": "markdown",
   "id": "c3a6d002-7b74-41a1-a456-81dc9bcd3a45",
   "metadata": {
    "jp-MarkdownHeadingCollapsed": true,
    "tags": []
   },
   "source": [
    "### 3. 영어 - Subject, Object에서 Entity 내에 영어가 하나라도 들어가 있는 것의 비율"
   ]
  },
  {
   "cell_type": "code",
   "execution_count": null,
   "id": "9941903a-1f66-4f49-8664-55ea9dde3395",
   "metadata": {},
   "outputs": [],
   "source": [
    "df_entity"
   ]
  },
  {
   "cell_type": "code",
   "execution_count": null,
   "id": "febb4daf-5501-4b7e-80c3-66b45bd619df",
   "metadata": {},
   "outputs": [],
   "source": [
    "import re\n",
    "\n",
    "def isEnglish(text):\n",
    "    hanCount = len(re.findall(r'[a-zA-Z]+', text))\n",
    "    return hanCount > 0\n",
    "\n",
    "\n",
    "df_entity[df_entity['subj_word'].apply(isEnglish)|df_entity['obj_word'].apply(isEnglish)]"
   ]
  },
  {
   "cell_type": "markdown",
   "id": "77e6b37e-ac2f-4d6f-8542-ed67eeaefbc8",
   "metadata": {
    "jp-MarkdownHeadingCollapsed": true,
    "tags": []
   },
   "source": [
    "### 4. 영어 - Subject, Object에서 Entity 하나 이상이 다 영어로 되어 있는 경우"
   ]
  },
  {
   "cell_type": "code",
   "execution_count": null,
   "id": "d46dcd24-1744-403f-91c6-656e505edfd6",
   "metadata": {},
   "outputs": [],
   "source": [
    "import sys\n",
    "import re\n",
    "\n",
    "def isAllEnglish(text):\n",
    "    hanCount = len(re.findall(r'^[a-zA-Z]+$', text))\n",
    "    return hanCount > 0\n",
    "\n",
    "\n",
    "df_entity[df_entity['subj_word'].apply(isAllEnglish)|df_entity['obj_word'].apply(isAllEnglish)]"
   ]
  },
  {
   "cell_type": "markdown",
   "id": "f85a9b39-42d8-4abe-92b8-bf73a0cc4b44",
   "metadata": {
    "jp-MarkdownHeadingCollapsed": true,
    "tags": []
   },
   "source": [
    "### 5. 숫자 - Subject, Object에서 Entity 내에 숫자가 하나라도 들어가 있는 것의 비율"
   ]
  },
  {
   "cell_type": "code",
   "execution_count": null,
   "id": "0593acb3-a111-4d97-bc79-e6ec34e9baaa",
   "metadata": {},
   "outputs": [],
   "source": [
    "import sys\n",
    "import re\n",
    "\n",
    "def isNumber(text):\n",
    "    hanCount = len(re.findall(r'[0-9]+',text))\n",
    "    return hanCount > 0\n",
    "\n",
    "\n",
    "df_entity[df_entity['subj_word'].apply(isNumber)|df_entity['obj_word'].apply(isNumber)]"
   ]
  },
  {
   "cell_type": "markdown",
   "id": "3da0d9f3-6d50-4f5e-92af-881d1349c72e",
   "metadata": {
    "jp-MarkdownHeadingCollapsed": true,
    "tags": []
   },
   "source": [
    "### 6. 숫자 - Subject, Object에서 Entity 한 개 이상이 전부 숫자로만 구성된 경우"
   ]
  },
  {
   "cell_type": "code",
   "execution_count": null,
   "id": "0546668f-eca6-4c3d-989b-21d1f50e2e7f",
   "metadata": {},
   "outputs": [],
   "source": [
    "import sys\n",
    "import re\n",
    "\n",
    "def isAllNumber(text):\n",
    "    hanCount = len(re.findall(r'^[0-9]+$', text))\n",
    "    return hanCount > 0\n",
    "\n",
    "\n",
    "df_entity[df_entity['subj_word'].apply(isAllNumber)|df_entity['obj_word'].apply(isAllNumber)]"
   ]
  },
  {
   "cell_type": "markdown",
   "id": "7b39df45-ff10-4282-aa1c-00a9132ba3c9",
   "metadata": {
    "jp-MarkdownHeadingCollapsed": true,
    "tags": []
   },
   "source": [
    "### 7. 특수 문자 - Subject, Object에서 Entity 내에 특수문자가 하나라도 들어가 있는 것의 비율(특수 문자 : 공백, 숫자, 영어를 제외한 모든 문자로 정의)"
   ]
  },
  {
   "cell_type": "code",
   "execution_count": null,
   "id": "24f147ca-f03f-4e57-92c5-3dd314e9250d",
   "metadata": {},
   "outputs": [],
   "source": [
    "import sys\n",
    "import re\n",
    "\n",
    "def isSpecialCharacter(text):\n",
    "    hanCount = len(re.findall(r'[^a-zA-Z가-힣0-9\\s]+', text))\n",
    "    return hanCount > 0\n",
    "\n",
    "\n",
    "df_entity[df_entity['subj_word'].apply(isSpecialCharacter)|df_entity['obj_word'].apply(isSpecialCharacter)]"
   ]
  },
  {
   "cell_type": "markdown",
   "id": "d3bd99bc-d414-47a7-add3-1673bb3c49ce",
   "metadata": {
    "jp-MarkdownHeadingCollapsed": true,
    "tags": []
   },
   "source": [
    "### 8. 특수 문자 - Subject, Object에서 Entity 한 개 이상이 전부 특수문자로만 구성된 것의 비율(특수 문자 : 공백, 숫자, 영어를 제외한 모든 문자로 정의)"
   ]
  },
  {
   "cell_type": "markdown",
   "id": "c368697e-459c-4a4d-abf3-350a60c70499",
   "metadata": {},
   "source": [
    "(이 때에는 특수문자 사이에 띄어쓰기 있을 수 있으므로 공백은 제외하지 않음)\n",
    "- 공백 제외 특수 문자 찾으면 87개\n",
    "- 공백 포함 특수 문자 찾으면 92개"
   ]
  },
  {
   "cell_type": "code",
   "execution_count": null,
   "id": "97ae724a-bcbc-4648-aa96-8a6c5020cbd1",
   "metadata": {},
   "outputs": [],
   "source": [
    "# 공백 포함한 특수문자\n",
    "import sys\n",
    "import re\n",
    "\n",
    "def isAllSpecialCharacter(text):\n",
    "    hanCount = len(re.findall(r'^[^a-zA-Z가-힣0-9]+$', text))\n",
    "    return hanCount > 0\n",
    "\n",
    "\n",
    "df_entity[df_entity['subj_word'].apply(isAllSpecialCharacter)|df_entity['obj_word'].apply(isAllSpecialCharacter)]"
   ]
  },
  {
   "cell_type": "code",
   "execution_count": null,
   "id": "b55b6b06-7b43-4b27-b1a3-025045a8ebf0",
   "metadata": {},
   "outputs": [],
   "source": [
    "# 공백 제외한 특수문자\n",
    "import sys\n",
    "import re\n",
    "\n",
    "def isAllSpecialCharacter(text):\n",
    "    hanCount = len(re.findall(r'^[^a-zA-Z가-힣0-9\\s]+$', text))\n",
    "    return hanCount > 0\n",
    "\n",
    "\n",
    "df_entity[df_entity['subj_word'].apply(isAllSpecialCharacter)|df_entity['obj_word'].apply(isAllSpecialCharacter)]"
   ]
  },
  {
   "cell_type": "markdown",
   "id": "a31e0004-476c-419b-aeac-f7e35c836f2d",
   "metadata": {
    "tags": []
   },
   "source": [
    "## VI. Test - Entities 살펴보기"
   ]
  },
  {
   "cell_type": "markdown",
   "id": "a8326d0b-954c-46df-8c87-c211223f5335",
   "metadata": {
    "jp-MarkdownHeadingCollapsed": true,
    "tags": []
   },
   "source": [
    "### 1. 새로운 DF 만들기"
   ]
  },
  {
   "cell_type": "code",
   "execution_count": null,
   "id": "8dd2d181-94bf-46c5-a493-1a6e894b6db9",
   "metadata": {},
   "outputs": [],
   "source": [
    "arr = []\n",
    "subj_word = []\n",
    "start = []\n",
    "end = []\n",
    "\n",
    "for i in range(df_test.shape[0]):\n",
    "    arr.append((eval(df_test['subject_entity'].iloc[i]))[\"type\"])\n",
    "    subj_word.append((eval(df_test['subject_entity'].iloc[i]))[\"word\"])\n",
    "    start.append((eval(df_test['subject_entity'].iloc[i]))[\"start_idx\"])\n",
    "    end.append((eval(df_test['subject_entity'].iloc[i]))[\"end_idx\"])\n",
    "    \n",
    "\n",
    "df_test_entity = pd.DataFrame(arr)\n",
    "df_test_entity.columns = ['subj_type']\n",
    "df_test_entity['subj_word'] = subj_word\n",
    "df_test_entity['subj_start'] = start\n",
    "df_test_entity['subj_end'] = end"
   ]
  },
  {
   "cell_type": "code",
   "execution_count": null,
   "id": "a9f775da-793b-48dc-9db0-632ecca07067",
   "metadata": {},
   "outputs": [],
   "source": [
    "arr = []\n",
    "obj_word = []\n",
    "start = []\n",
    "end = []\n",
    "\n",
    "for i in range(df_test.shape[0]):\n",
    "    arr.append((eval(df_test['object_entity'].iloc[i]))[\"type\"])\n",
    "    obj_word.append((eval(df_test['object_entity'].iloc[i]))[\"word\"])\n",
    "    start.append((eval(df_test['object_entity'].iloc[i]))[\"start_idx\"])\n",
    "    end.append((eval(df_test['object_entity'].iloc[i]))[\"end_idx\"])\n",
    "\n",
    "df_test_entity['obj_type'] = arr\n",
    "df_test_entity['obj_word'] = obj_word\n",
    "df_test_entity['obj_start'] = start\n",
    "df_test_entity['obj_end'] = end"
   ]
  },
  {
   "cell_type": "code",
   "execution_count": null,
   "id": "52ce5f59-4df6-4d5e-811d-3570d2896fbe",
   "metadata": {},
   "outputs": [],
   "source": [
    "df_test_entity"
   ]
  },
  {
   "cell_type": "code",
   "execution_count": null,
   "id": "b2fe9e37-84b1-49b0-ad7e-044695ebd943",
   "metadata": {},
   "outputs": [],
   "source": [
    "df_test_entity.to_csv('../dataset/test/test_only_entity.csv')"
   ]
  },
  {
   "cell_type": "markdown",
   "id": "71a9eb0a-f7e1-4c47-8922-df8177a279f7",
   "metadata": {
    "jp-MarkdownHeadingCollapsed": true,
    "tags": []
   },
   "source": [
    "## VII. 베이스라인 코드 전처리"
   ]
  },
  {
   "cell_type": "code",
   "execution_count": null,
   "id": "135eca56-3ae2-4c57-b4cf-b36d221207c4",
   "metadata": {},
   "outputs": [],
   "source": []
  },
  {
   "cell_type": "markdown",
   "id": "952e4088-9ff3-4cb1-99e3-79ef3374b2e5",
   "metadata": {},
   "source": [
    "## 할 것"
   ]
  },
  {
   "cell_type": "code",
   "execution_count": null,
   "id": "5941b45f-c47c-49ef-90da-8fa024aca1fe",
   "metadata": {},
   "outputs": [],
   "source": [
    "# no relation은 어떤 애들일까? \n",
    "\n",
    "# subject가 object보다 항상 앞에 있는가?\n",
    "# 중복 데이터 확인\n",
    "# 같은 문장이 여러개 -> 나눠서 들어가도 될까? , 또 다른 데이터 문제는 없을까? \n",
    "# train data와 test data에 같은 문장은 없나?\n",
    "\n",
    "# 질의 응답 형식으로 바꿔본다면 어떻게?\n",
    "# 베이스라인 코드에서 데이터 전처리 어떻게 하고 있는지?\n",
    "# RoBERTa에서 전처리 방법은?\n",
    "# subject 나 object에 영어가 있나? 특수 문자가 있나?\n",
    "# 베이스라인 코드에서는 전처리할 때 영어를 없앴나?"
   ]
  },
  {
   "cell_type": "code",
   "execution_count": null,
   "id": "5a70bfe5-a5c8-45f2-943a-1f435965b90c",
   "metadata": {},
   "outputs": [],
   "source": [
    "# 베이스 라인 코드 다시 확인\n",
    "# - 전처리 어떻게 했는지\n",
    "# - 특수 문자 처리 어떻게 했는지\n",
    "# - 토크나이즈 어떻게 했는지\n",
    "# - 즉 지금 모델에 데이터가 어떤 모습으로 들어가지고 있는지 확인\n",
    "    \n",
    "# 중복 데이터를 어떻게 처리할 것인지 고민\n",
    "# 특수 문자 데이터를 어떻게 처리할 것인지 고민\n",
    "# 잘못 라벨링되었는지 판단.... 이건 판단이 좀 어려운 것 같지만 고민해보기(no relation도 관계가 있어보이는 것도 많고...)\n",
    "\n",
    "# group 별로 보자. org, per, ...\n",
    "# test 셋도 동일하게 분석하기"
   ]
  },
  {
   "cell_type": "code",
   "execution_count": null,
   "id": "a446ac7f-3052-4591-8652-f03c586b54e0",
   "metadata": {},
   "outputs": [],
   "source": []
  }
 ],
 "metadata": {
  "kernelspec": {
   "display_name": "Python 3 (ipykernel)",
   "language": "python",
   "name": "python3"
  },
  "language_info": {
   "codemirror_mode": {
    "name": "ipython",
    "version": 3
   },
   "file_extension": ".py",
   "mimetype": "text/x-python",
   "name": "python",
   "nbconvert_exporter": "python",
   "pygments_lexer": "ipython3",
   "version": "3.8.5"
  }
 },
 "nbformat": 4,
 "nbformat_minor": 5
}
