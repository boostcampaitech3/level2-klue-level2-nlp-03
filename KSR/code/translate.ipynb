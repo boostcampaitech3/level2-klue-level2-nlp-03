{
 "cells": [
  {
   "cell_type": "markdown",
   "metadata": {},
   "source": [
    "## Initialize"
   ]
  },
  {
   "cell_type": "code",
   "execution_count": 78,
   "metadata": {},
   "outputs": [],
   "source": [
    "#for initialize\n",
    "#!pip install google-cloud-translate==2.0.1"
   ]
  },
  {
   "cell_type": "code",
   "execution_count": null,
   "metadata": {},
   "outputs": [
    {
     "ename": "",
     "evalue": "",
     "output_type": "error",
     "traceback": [
      "\u001b[1;31mThe kernel failed to start due to the missing module 'ipython_genutils'. Consider installing this module. \n",
      "View Jupyter <a href='command:jupyter.viewOutput'>log</a> for further details.\n",
      "<a href='https://aka.ms/kernelFailuresMissingModule'>Learn more</a>"
     ]
    }
   ],
   "source": [
    "import os\n",
    "os.environ[\"GOOGLE_APPLICATION_CREDENTIALS\"]=\"your-api\"\n",
    "from google.cloud import translate_v2 as translate\n",
    "import html\n",
    "import pandas as pd\n"
   ]
  },
  {
   "cell_type": "code",
   "execution_count": 80,
   "metadata": {},
   "outputs": [
    {
     "data": {
      "text/plain": [
       "['〈Something〉는 조지 해리슨이 쓰고 비틀즈가 1969년 앨범 《Abbey Road》에 담은 노래다.',\n",
       " '호남이 기반인 바른미래당·대안신당·민주평화당이 우여곡절 끝에 합당해 민생당(가칭)으로 재탄생한다.',\n",
       " 'K리그2에서 성적 1위를 달리고 있는 광주FC는 지난 26일 한국프로축구연맹으로부터 관중 유치 성과와 마케팅 성과를 인정받아 ‘풀 스타디움상’과 ‘플러스 스타디움상’을 수상했다.',\n",
       " '균일가 생활용품점 (주)아성다이소(대표 박정부)는 코로나19 바이러스로 어려움을 겪고 있는 대구광역시에 행복박스를 전달했다고 10일 밝혔다.',\n",
       " '1967년 프로 야구 드래프트 1순위로 요미우리 자이언츠에게 입단하면서 등번호는 8번으로 배정되었다.']"
      ]
     },
     "execution_count": 80,
     "metadata": {},
     "output_type": "execute_result"
    }
   ],
   "source": [
    "train_dir = '/opt/ml/KSR/dataset/train/train.csv'\n",
    "train_df = pd.read_csv(train_dir)\n",
    "sample_context = list(train_df.head(5)['sentence'])\n",
    "sample_context"
   ]
  },
  {
   "cell_type": "markdown",
   "metadata": {},
   "source": [
    "## Translation"
   ]
  },
  {
   "cell_type": "markdown",
   "metadata": {},
   "source": [
    "* `google translation api` 사용 \n",
    "* context에는 back-translation할 `sentence list`가, \n",
    "* lang은 back-translation할 target 언어를 적으면 된다.(eg : `en`, `ja`, `fr`)"
   ]
  },
  {
   "cell_type": "code",
   "execution_count": 81,
   "metadata": {},
   "outputs": [],
   "source": [
    "def back_translation_google(context, lang):\n",
    "    back_translation_list = []\n",
    "    client = translate.Client()\n",
    "\n",
    "    for sentence in context:\n",
    "        result = client.translate(sentence, target_language=lang)\n",
    "        result = client.translate(result['translatedText'], target_language='ko')\n",
    "        backtranslation_text = html.unescape(result[\"translatedText\"])\n",
    "        back_translation_list.append(backtranslation_text)\n",
    "    \n",
    "    return back_translation_list"
   ]
  },
  {
   "cell_type": "code",
   "execution_count": 82,
   "metadata": {},
   "outputs": [
    {
     "data": {
      "text/plain": [
       "['\"Something\"은 조지 해리슨이 작곡하고 비틀즈가 1969년 앨범 Abbey Road에 포함시킨 노래입니다.',\n",
       " '호남을 기점으로 한 바른미래당, 대안신당, 민주평화당이 우여곡절 끝에 합류해 민생당(가칭)으로 거듭났다.',\n",
       " \"K리그2에서 1위를 달리고 있는 광주FC는 지난 26일 대한프로축구연맹(KFA)으로부터 관중 유치와 마케팅에 탁월한 성과를 인정받아 '풀스타디움상'과 '플러스스타디움상'을 수상했다.\",\n",
       " '10일 균일가격 생활용품 전문점 아성다이소는 코로나19 바이러스로 어려움을 겪고 있는 대구광역시에 해피박스를 배송했다고 10일 밝혔다.',\n",
       " '그는 1967년 프로야구 드래프트에서 1순위로 요미우리 자이언츠에 지명되었을 때 등번호 8번을 배정받았다.']"
      ]
     },
     "execution_count": 82,
     "metadata": {},
     "output_type": "execute_result"
    }
   ],
   "source": [
    "back_translation_google(sample_context, \"en\")"
   ]
  },
  {
   "cell_type": "code",
   "execution_count": 83,
   "metadata": {},
   "outputs": [
    {
     "data": {
      "text/plain": [
       "[\"<Something>은 조지 해리슨이 써 비틀즈가 1969년 앨범 'Abbey Road'에 담은 곡이다.\",\n",
       " '호남이 기반의 올바른 미래당·대안신당·민주평화당이 우여곡절 끝에 합당해 민생당(가칭)으로 재탄생한다.',\n",
       " \"K리그 2에서 성적 1위를 달리고 있는 광주 FC는 26일 한국 프로축구 연맹에서 관객 유치 성과와 마케팅 성과를 인정받아 '풀 스타디움상'과 '플러스 스타디움상'을 수상했다.\",\n",
       " '균일가 생활용품점(주)아성다이소(대표 박 정부)는 코로나 19바이러스로 어려움을 겪고 있는 대구광역시 행복함을 전달했다고 10일 밝혔다.',\n",
       " '1967년 프로야구 드래프트 1위로 요미우리 자이언츠에 입단해 등번호는 8번으로 할당됐다.']"
      ]
     },
     "execution_count": 83,
     "metadata": {},
     "output_type": "execute_result"
    }
   ],
   "source": [
    "back_translation_google(sample_context, \"ja\")"
   ]
  },
  {
   "cell_type": "markdown",
   "metadata": {},
   "source": [
    "## Back tanslation with masking entities"
   ]
  },
  {
   "cell_type": "code",
   "execution_count": 84,
   "metadata": {},
   "outputs": [],
   "source": [
    "#translation test\n",
    "text = \"균일가 생활용품점 (주)아성다이소(대표 박정부)는 코로나19 바이러스로 어려움을 겪고 있는 대구광역시에 행복박스를 전달했다고 10일 밝혔다.\"\n",
    "front = \"<span tanslate=\\\"no\\\">\"\n",
    "back = \"</span>\"\n",
    "\n",
    "mask_symbol1 = '_M_A_S_K_1_'\n",
    "mask_symbol2 = '_M_A_S_K_2_'\n",
    "\n",
    "def masktoken(text, word1, word2):\n",
    "    text = text.replace(word1, mask_symbol1)\n",
    "    text = text.replace(word2, mask_symbol2)\n",
    "\n",
    "    return text\n",
    "\n",
    "def demasktoken(text, word1, word2):\n",
    "    text = text.replace(mask_symbol1, word1)\n",
    "    text = text.replace(mask_symbol2, word2)\n",
    "\n",
    "    return text\n",
    "\n",
    "def addtoken(text, word):\n",
    "    start = text.find(word)\n",
    "    end = start + len(word)\n",
    "    print(start)\n",
    "    text_len = end - start + 1\n",
    "    text = text[:start] + front + text[start:]\n",
    "    text = text[:start+len(front)+text_len] + back + text[start+len(front)+text_len:] \n",
    "\n",
    "    return text\n",
    "\n",
    "# text = addtoken(text, \"광주FC\")\n",
    "# token_text = addtoken(text, \"한국프로축구연맹\")\n",
    "# print(token_text)\n",
    "original_text = text\n",
    "text = masktoken(text, \"아성다이소\", \"박정부\")\n",
    "mask_text = text\n",
    "client = translate.Client()\n",
    "result = client.translate(text, target_language='en')\n",
    "result = client.translate(result['translatedText'], target_language='ko')\n",
    "backtranslation_text = html.unescape(result[\"translatedText\"])\n",
    "text = demasktoken(backtranslation_text, \"아성다이소\", \"박정부\")\n",
    "back_trans_text = text"
   ]
  },
  {
   "cell_type": "code",
   "execution_count": 85,
   "metadata": {},
   "outputs": [
    {
     "name": "stdout",
     "output_type": "stream",
     "text": [
      "Original One :  균일가 생활용품점 (주)아성다이소(대표 박정부)는 코로나19 바이러스로 어려움을 겪고 있는 대구광역시에 행복박스를 전달했다고 10일 밝혔다.\n",
      "MASKED One :  균일가 생활용품점 (주)_M_A_S_K_1_(대표 _M_A_S_K_2_)는 코로나19 바이러스로 어려움을 겪고 있는 대구광역시에 행복박스를 전달했다고 10일 밝혔다.\n",
      "BackTansl One :  흥공가생활용품점아성다이소(대표 박정부)은 코로나19 바이러스로 어려움을 겪고 있는 대구광역시에 해피박스를 배송했다고 10일 밝혔다.\n"
     ]
    }
   ],
   "source": [
    "print(\"Original One : \", original_text)\n",
    "print(\"MASKED One : \", mask_text)\n",
    "print(\"BackTansl One : \", back_trans_text)"
   ]
  },
  {
   "cell_type": "markdown",
   "metadata": {},
   "source": [
    "## Apply back-translation into train.csv"
   ]
  },
  {
   "cell_type": "code",
   "execution_count": 86,
   "metadata": {},
   "outputs": [],
   "source": [
    "mask_symbol1 = '_M_A_S_K_1_'\n",
    "mask_symbol2 = '_M_A_S_K_2_'\n",
    "\n",
    "def masktoken(text, word1, word2):\n",
    "    text = text.replace(word1, mask_symbol1)\n",
    "    text = text.replace(word2, mask_symbol2)\n",
    "\n",
    "    return text\n",
    "\n",
    "def demasktoken(text, word1, word2):\n",
    "    text = text.replace(mask_symbol1, word1)\n",
    "    text = text.replace(mask_symbol2, word2)\n",
    "\n",
    "    return text\n",
    "\n",
    "def back_translation_train(text, sub, obj, lang):\n",
    "    '''\n",
    "    text-> train_df['sentence'], sub -> train_df['subject_entity']['word'],\n",
    "    obj -> train_df['object_entity']['word']\n",
    "    '''\n",
    "    client = translate.Client()\n",
    "    text = masktoken(text, sub, obj)\n",
    "    client = translate.Client()\n",
    "    result = client.translate(text, target_language=lang)\n",
    "    result = client.translate(result['translatedText'], target_language='ko')\n",
    "    backtranslation_text = html.unescape(result[\"translatedText\"])\n",
    "    text = demasktoken(backtranslation_text, sub, obj)\n",
    "\n",
    "    return text"
   ]
  },
  {
   "cell_type": "code",
   "execution_count": 90,
   "metadata": {},
   "outputs": [
    {
     "name": "stderr",
     "output_type": "stream",
     "text": [
      "100%|██████████| 30/30 [00:22<00:00,  1.35it/s]\n"
     ]
    }
   ],
   "source": [
    "from tqdm import tqdm\n",
    "train_dir = '/opt/ml/KSR/dataset/train/train.csv'\n",
    "train_df = pd.read_csv(train_dir)\n",
    "\n",
    "lang = ['en']\n",
    "tqdm.pandas()\n",
    "for la in lang:\n",
    "    new_coulmn = f'{la}_trans_sentence'\n",
    "    train_df[new_coulmn] = train_df.progress_apply(lambda row : \n",
    "    back_translation_train(row.sentence, eval(row.subject_entity)['word'],\n",
    "    eval(row.object_entity)['word'], la),axis=1)\n",
    "    \n",
    "\n",
    "train_df.to_csv(\"/opt/ml/KSR/dataset/train/en_train.csv\",columns=['en_trans_sentence'], index=False)"
   ]
  }
 ],
 "metadata": {
  "interpreter": {
   "hash": "d4d1e4263499bec80672ea0156c357c1ee493ec2b1c70f0acce89fc37c4a6abe"
  },
  "kernelspec": {
   "display_name": "Python 3.8.5 ('base')",
   "language": "python",
   "name": "python3"
  },
  "language_info": {
   "codemirror_mode": {
    "name": "ipython",
    "version": 3
   },
   "file_extension": ".py",
   "mimetype": "text/x-python",
   "name": "python",
   "nbconvert_exporter": "python",
   "pygments_lexer": "ipython3",
   "version": "3.8.12"
  },
  "orig_nbformat": 4
 },
 "nbformat": 4,
 "nbformat_minor": 2
}
