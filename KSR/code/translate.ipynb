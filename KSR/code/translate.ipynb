{
 "cells": [
  {
   "cell_type": "code",
   "execution_count": 15,
   "metadata": {},
   "outputs": [],
   "source": [
    "import os\n",
    "os.environ[\"GOOGLE_APPLICATION_CREDENTIALS\"]=\"/opt/ml/zeropoint-253113-57898f22153b.json\"\n",
    "from google.cloud import translate_v2 as translate\n",
    "import html\n"
   ]
  },
  {
   "cell_type": "code",
   "execution_count": 23,
   "metadata": {},
   "outputs": [],
   "source": [
    "translate_text = \"〈Something〉는 조지 해리슨이 쓰고 비틀즈가 1969년 앨범 《Abbey Road》에 담은 노래다.\""
   ]
  },
  {
   "cell_type": "markdown",
   "metadata": {},
   "source": [
    "### 영어 back-translation"
   ]
  },
  {
   "cell_type": "code",
   "execution_count": 17,
   "metadata": {},
   "outputs": [],
   "source": [
    "client = translate.Client()\n",
    "result = client.translate(translate_text, target_language='en')\n",
    "result = client.translate(result['translatedText'], target_language='ko')\n",
    "backtranslation_text = html.unescape(result[\"translatedText\"])"
   ]
  },
  {
   "cell_type": "code",
   "execution_count": 24,
   "metadata": {},
   "outputs": [
    {
     "name": "stdout",
     "output_type": "stream",
     "text": [
      "〈Something〉는 조지 해리슨이 쓰고 비틀즈가 1969년 앨범 《Abbey Road》에 담은 노래다.\n",
      "<------------------------->\n",
      "<Something>은 조지 해리슨이 써 비틀즈가 1969년 앨범 'Abbey Road'에 담은 곡이다.\n"
     ]
    }
   ],
   "source": [
    "print(translate_text)\n",
    "print(\"<------------------------->\")\n",
    "print(backtranslation_text)"
   ]
  },
  {
   "cell_type": "markdown",
   "metadata": {},
   "source": [
    "### 일본어 back-translation"
   ]
  },
  {
   "cell_type": "code",
   "execution_count": 21,
   "metadata": {},
   "outputs": [],
   "source": [
    "client = translate.Client()\n",
    "result = client.translate(translate_text, target_language='ja')\n",
    "result = client.translate(result['translatedText'], target_language='ko')\n",
    "backtranslation_text = html.unescape(result[\"translatedText\"])"
   ]
  },
  {
   "cell_type": "code",
   "execution_count": 25,
   "metadata": {},
   "outputs": [
    {
     "name": "stdout",
     "output_type": "stream",
     "text": [
      "〈Something〉는 조지 해리슨이 쓰고 비틀즈가 1969년 앨범 《Abbey Road》에 담은 노래다.\n",
      "<------------------------->\n",
      "<Something>은 조지 해리슨이 써 비틀즈가 1969년 앨범 'Abbey Road'에 담은 곡이다.\n"
     ]
    }
   ],
   "source": [
    "print(translate_text)\n",
    "print(\"<------------------------->\")\n",
    "print(backtranslation_text)"
   ]
  },
  {
   "cell_type": "markdown",
   "metadata": {},
   "source": [
    "### 독일어 back-translation"
   ]
  },
  {
   "cell_type": "code",
   "execution_count": 26,
   "metadata": {},
   "outputs": [],
   "source": [
    "client = translate.Client()\n",
    "result = client.translate(translate_text, target_language='fr')\n",
    "result = client.translate(result['translatedText'], target_language='ko')\n",
    "backtranslation_text = html.unescape(result[\"translatedText\"])"
   ]
  },
  {
   "cell_type": "code",
   "execution_count": 27,
   "metadata": {},
   "outputs": [
    {
     "name": "stdout",
     "output_type": "stream",
     "text": [
      "〈Something〉는 조지 해리슨이 쓰고 비틀즈가 1969년 앨범 《Abbey Road》에 담은 노래다.\n",
      "<------------------------->\n",
      "\"Something\"은 조지 해리슨이 작곡하고 비틀즈가 1969년 앨범 Abbey Road에 포함시킨 노래입니다.\n"
     ]
    }
   ],
   "source": [
    "print(translate_text)\n",
    "print(\"<------------------------->\")\n",
    "print(backtranslation_text)"
   ]
  },
  {
   "cell_type": "code",
   "execution_count": null,
   "metadata": {},
   "outputs": [],
   "source": []
  }
 ],
 "metadata": {
  "interpreter": {
   "hash": "d4d1e4263499bec80672ea0156c357c1ee493ec2b1c70f0acce89fc37c4a6abe"
  },
  "kernelspec": {
   "display_name": "Python 3.8.5 ('base')",
   "language": "python",
   "name": "python3"
  },
  "language_info": {
   "codemirror_mode": {
    "name": "ipython",
    "version": 3
   },
   "file_extension": ".py",
   "mimetype": "text/x-python",
   "name": "python",
   "nbconvert_exporter": "python",
   "pygments_lexer": "ipython3",
   "version": "3.8.5"
  },
  "orig_nbformat": 4
 },
 "nbformat": 4,
 "nbformat_minor": 2
}
