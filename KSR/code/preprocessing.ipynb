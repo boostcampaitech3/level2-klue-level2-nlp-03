{
 "cells": [
  {
   "cell_type": "code",
   "execution_count": 43,
   "metadata": {},
   "outputs": [],
   "source": [
    "import kss\n",
    "import soynlp\n",
    "from pykospacing import Spacing\n",
    "from hanspell import spell_checker\n",
    "\n",
    "import pandas as pd\n",
    "import re\n"
   ]
  },
  {
   "cell_type": "code",
   "execution_count": 44,
   "metadata": {},
   "outputs": [
    {
     "data": {
      "text/html": [
       "<div>\n",
       "<style scoped>\n",
       "    .dataframe tbody tr th:only-of-type {\n",
       "        vertical-align: middle;\n",
       "    }\n",
       "\n",
       "    .dataframe tbody tr th {\n",
       "        vertical-align: top;\n",
       "    }\n",
       "\n",
       "    .dataframe thead th {\n",
       "        text-align: right;\n",
       "    }\n",
       "</style>\n",
       "<table border=\"1\" class=\"dataframe\">\n",
       "  <thead>\n",
       "    <tr style=\"text-align: right;\">\n",
       "      <th></th>\n",
       "      <th>id</th>\n",
       "      <th>sentence</th>\n",
       "      <th>subject_entity</th>\n",
       "      <th>object_entity</th>\n",
       "      <th>label</th>\n",
       "      <th>source</th>\n",
       "    </tr>\n",
       "  </thead>\n",
       "  <tbody>\n",
       "    <tr>\n",
       "      <th>0</th>\n",
       "      <td>0</td>\n",
       "      <td>〈Something〉는 조지 해리슨이 쓰고 비틀즈가 1969년 앨범 《Abbey R...</td>\n",
       "      <td>{'word': '비틀즈', 'start_idx': 24, 'end_idx': 26...</td>\n",
       "      <td>{'word': '조지 해리슨', 'start_idx': 13, 'end_idx':...</td>\n",
       "      <td>no_relation</td>\n",
       "      <td>wikipedia</td>\n",
       "    </tr>\n",
       "    <tr>\n",
       "      <th>1</th>\n",
       "      <td>1</td>\n",
       "      <td>호남이 기반인 바른미래당·대안신당·민주평화당이 우여곡절 끝에 합당해 민생당(가칭)으...</td>\n",
       "      <td>{'word': '민주평화당', 'start_idx': 19, 'end_idx': ...</td>\n",
       "      <td>{'word': '대안신당', 'start_idx': 14, 'end_idx': 1...</td>\n",
       "      <td>no_relation</td>\n",
       "      <td>wikitree</td>\n",
       "    </tr>\n",
       "    <tr>\n",
       "      <th>2</th>\n",
       "      <td>2</td>\n",
       "      <td>K리그2에서 성적 1위를 달리고 있는 광주FC는 지난 26일 한국프로축구연맹으로부터...</td>\n",
       "      <td>{'word': '광주FC', 'start_idx': 21, 'end_idx': 2...</td>\n",
       "      <td>{'word': '한국프로축구연맹', 'start_idx': 34, 'end_idx...</td>\n",
       "      <td>org:member_of</td>\n",
       "      <td>wikitree</td>\n",
       "    </tr>\n",
       "    <tr>\n",
       "      <th>3</th>\n",
       "      <td>3</td>\n",
       "      <td>균일가 생활용품점 (주)아성다이소(대표 박정부)는 코로나19 바이러스로 어려움을 겪...</td>\n",
       "      <td>{'word': '아성다이소', 'start_idx': 13, 'end_idx': ...</td>\n",
       "      <td>{'word': '박정부', 'start_idx': 22, 'end_idx': 24...</td>\n",
       "      <td>org:top_members/employees</td>\n",
       "      <td>wikitree</td>\n",
       "    </tr>\n",
       "    <tr>\n",
       "      <th>4</th>\n",
       "      <td>4</td>\n",
       "      <td>1967년 프로 야구 드래프트 1순위로 요미우리 자이언츠에게 입단하면서 등번호는 8...</td>\n",
       "      <td>{'word': '요미우리 자이언츠', 'start_idx': 22, 'end_id...</td>\n",
       "      <td>{'word': '1967', 'start_idx': 0, 'end_idx': 3,...</td>\n",
       "      <td>no_relation</td>\n",
       "      <td>wikipedia</td>\n",
       "    </tr>\n",
       "  </tbody>\n",
       "</table>\n",
       "</div>"
      ],
      "text/plain": [
       "   id                                           sentence  \\\n",
       "0   0  〈Something〉는 조지 해리슨이 쓰고 비틀즈가 1969년 앨범 《Abbey R...   \n",
       "1   1  호남이 기반인 바른미래당·대안신당·민주평화당이 우여곡절 끝에 합당해 민생당(가칭)으...   \n",
       "2   2  K리그2에서 성적 1위를 달리고 있는 광주FC는 지난 26일 한국프로축구연맹으로부터...   \n",
       "3   3  균일가 생활용품점 (주)아성다이소(대표 박정부)는 코로나19 바이러스로 어려움을 겪...   \n",
       "4   4  1967년 프로 야구 드래프트 1순위로 요미우리 자이언츠에게 입단하면서 등번호는 8...   \n",
       "\n",
       "                                      subject_entity  \\\n",
       "0  {'word': '비틀즈', 'start_idx': 24, 'end_idx': 26...   \n",
       "1  {'word': '민주평화당', 'start_idx': 19, 'end_idx': ...   \n",
       "2  {'word': '광주FC', 'start_idx': 21, 'end_idx': 2...   \n",
       "3  {'word': '아성다이소', 'start_idx': 13, 'end_idx': ...   \n",
       "4  {'word': '요미우리 자이언츠', 'start_idx': 22, 'end_id...   \n",
       "\n",
       "                                       object_entity  \\\n",
       "0  {'word': '조지 해리슨', 'start_idx': 13, 'end_idx':...   \n",
       "1  {'word': '대안신당', 'start_idx': 14, 'end_idx': 1...   \n",
       "2  {'word': '한국프로축구연맹', 'start_idx': 34, 'end_idx...   \n",
       "3  {'word': '박정부', 'start_idx': 22, 'end_idx': 24...   \n",
       "4  {'word': '1967', 'start_idx': 0, 'end_idx': 3,...   \n",
       "\n",
       "                       label     source  \n",
       "0                no_relation  wikipedia  \n",
       "1                no_relation   wikitree  \n",
       "2              org:member_of   wikitree  \n",
       "3  org:top_members/employees   wikitree  \n",
       "4                no_relation  wikipedia  "
      ]
     },
     "execution_count": 44,
     "metadata": {},
     "output_type": "execute_result"
    }
   ],
   "source": [
    "train_dir = '/opt/ml/KSR/dataset/train/train.csv'\n",
    "train_df = pd.read_csv(train_dir)\n",
    "train_df.head(5)"
   ]
  },
  {
   "cell_type": "code",
   "execution_count": 45,
   "metadata": {},
   "outputs": [
    {
     "data": {
      "text/plain": [
       "['〈Something〉는 조지 해리슨이 쓰고 비틀즈가 1969년 앨범 《Abbey Road》에 담은 노래다.',\n",
       " '호남이 기반인 바른미래당·대안신당·민주평화당이 우여곡절 끝에 합당해 민생당(가칭)으로 재탄생한다.',\n",
       " 'K리그2에서 성적 1위를 달리고 있는 광주FC는 지난 26일 한국프로축구연맹으로부터 관중 유치 성과와 마케팅 성과를 인정받아 ‘풀 스타디움상’과 ‘플러스 스타디움상’을 수상했다.',\n",
       " '균일가 생활용품점 (주)아성다이소(대표 박정부)는 코로나19 바이러스로 어려움을 겪고 있는 대구광역시에 행복박스를 전달했다고 10일 밝혔다.',\n",
       " '1967년 프로 야구 드래프트 1순위로 요미우리 자이언츠에게 입단하면서 등번호는 8번으로 배정되었다.']"
      ]
     },
     "execution_count": 45,
     "metadata": {},
     "output_type": "execute_result"
    }
   ],
   "source": [
    "sample_context = list(train_df.head(5)['sentence'])\n",
    "sample_context"
   ]
  },
  {
   "cell_type": "markdown",
   "metadata": {},
   "source": [
    "## 한국어 자연어 전처리"
   ]
  },
  {
   "cell_type": "markdown",
   "metadata": {},
   "source": [
    "### 불필요한 괄호제거"
   ]
  },
  {
   "cell_type": "code",
   "execution_count": 46,
   "metadata": {},
   "outputs": [],
   "source": [
    "def remove_useless_breacket(texts):\n",
    "    \"\"\"\n",
    "    위키피디아 전처리를 위한 함수입니다.\n",
    "    괄호 내부에 의미가 없는 정보를 제거합니다.\n",
    "    아무런 정보를 포함하고 있지 않다면, 괄호를 통채로 제거합니다.\n",
    "    ``수학(,)`` -> ``수학``\n",
    "    ``수학(數學,) -> ``수학(數學)``\n",
    "    \"\"\"\n",
    "    bracket_pattern = re.compile(r\"\\((.*?)\\)\")\n",
    "    preprocessed_text = []\n",
    "    for text in texts:\n",
    "        modi_text = \"\"\n",
    "        text = text.replace(\"()\", \"\")  # 수학() -> 수학\n",
    "        brackets = bracket_pattern.search(text)\n",
    "        if not brackets:\n",
    "            if text:\n",
    "                preprocessed_text.append(text)\n",
    "                continue\n",
    "        replace_brackets = {}\n",
    "        # key: 원본 문장에서 고쳐야하는 index, value: 고쳐져야 하는 값\n",
    "        # e.g. {'2,8': '(數學)','34,37': ''}\n",
    "        while brackets:\n",
    "            index_key = str(brackets.start()) + \",\" + str(brackets.end())\n",
    "            bracket = text[brackets.start() + 1 : brackets.end() - 1]\n",
    "            infos = bracket.split(\",\")\n",
    "            modi_infos = []\n",
    "            for info in infos:\n",
    "                info = info.strip()\n",
    "                if len(info) > 0:\n",
    "                    modi_infos.append(info)\n",
    "            if len(modi_infos) > 0:\n",
    "                replace_brackets[index_key] = \"(\" + \", \".join(modi_infos) + \")\"\n",
    "            else:\n",
    "                replace_brackets[index_key] = \"\"\n",
    "            brackets = bracket_pattern.search(text, brackets.start() + 1)\n",
    "        end_index = 0\n",
    "        for index_key in replace_brackets.keys():\n",
    "            start_index = int(index_key.split(\",\")[0])\n",
    "            modi_text += text[end_index:start_index]\n",
    "            modi_text += replace_brackets[index_key]\n",
    "            end_index = int(index_key.split(\",\")[1])\n",
    "        modi_text += text[end_index:]\n",
    "        modi_text = modi_text.strip()\n",
    "        if modi_text:\n",
    "            preprocessed_text.append(modi_text)\n",
    "    return preprocessed_text"
   ]
  },
  {
   "cell_type": "markdown",
   "metadata": {},
   "source": [
    "### 문장 부호제거"
   ]
  },
  {
   "cell_type": "code",
   "execution_count": 47,
   "metadata": {},
   "outputs": [],
   "source": [
    "def clean_punc(texts):\n",
    "    punct_mapping = {\"‘\": \"'\", \"₹\": \"e\", \"´\": \"'\", \"°\": \"\", \"€\": \"e\", \"™\": \"tm\", \"√\": \" sqrt \", \"×\": \"x\", \"²\": \"2\", \"—\": \"-\", \"–\": \"-\", \"’\": \"'\", \"_\": \"-\", \"`\": \"'\", '“': '\"', '”': '\"', '“': '\"', \"£\": \"e\", '∞': 'infinity', 'θ': 'theta', '÷': '/', 'α': 'alpha', '•': '.', 'à': 'a', '−': '-', 'β': 'beta', '∅': '', '³': '3', 'π': 'pi', }\n",
    "\n",
    "    preprocessed_text = []\n",
    "    for text in texts:\n",
    "        for p in punct_mapping:\n",
    "            text = text.replace(p, punct_mapping[p])\n",
    "        text = text.strip()\n",
    "        if text:\n",
    "            preprocessed_text.append(text)\n",
    "    return preprocessed_text"
   ]
  },
  {
   "cell_type": "markdown",
   "metadata": {},
   "source": [
    "### 연속 공백 제거"
   ]
  },
  {
   "cell_type": "code",
   "execution_count": 48,
   "metadata": {},
   "outputs": [],
   "source": [
    "def remove_repeated_spacing(texts):\n",
    "    \"\"\"\n",
    "    두 개 이상의 연속된 공백을 하나로 치환합니다.\n",
    "    ``오늘은    날씨가   좋다.`` -> ``오늘은 날씨가 좋다.``\n",
    "    \"\"\"\n",
    "    preprocessed_text = []\n",
    "    for text in texts:\n",
    "        text = re.sub(r\"\\s+\", \" \", text).strip()\n",
    "        if text:\n",
    "            preprocessed_text.append(text)\n",
    "    return preprocessed_text"
   ]
  },
  {
   "cell_type": "markdown",
   "metadata": {},
   "source": [
    "### 띄어쓰기 보정"
   ]
  },
  {
   "cell_type": "code",
   "execution_count": 49,
   "metadata": {},
   "outputs": [],
   "source": [
    "def spacing_sent(texts):\n",
    "    spacing = Spacing()\n",
    "    \"\"\"\n",
    "    띄어쓰기를 보정합니다.\n",
    "    \"\"\"\n",
    "    preprocessed_text = []\n",
    "    for text in texts:\n",
    "        text = spacing(text)\n",
    "        if text:\n",
    "            preprocessed_text.append(text)\n",
    "    return preprocessed_text"
   ]
  },
  {
   "cell_type": "markdown",
   "metadata": {},
   "source": [
    "### 맞춤법 보정"
   ]
  },
  {
   "cell_type": "code",
   "execution_count": 50,
   "metadata": {},
   "outputs": [],
   "source": [
    "def spell_check_sent(texts):\n",
    "    \"\"\"\n",
    "    맞춤법을 보정합니다.\n",
    "    \"\"\"\n",
    "    preprocessed_text = []\n",
    "    for text in texts:\n",
    "        try:\n",
    "            spelled_sent = spell_checker.check(text)\n",
    "            checked_sent = spelled_sent.checked \n",
    "            if checked_sent:\n",
    "                preprocessed_text.append(checked_sent)\n",
    "        except:\n",
    "            preprocessed_text.append(text)\n",
    "    return preprocessed_text"
   ]
  },
  {
   "cell_type": "markdown",
   "metadata": {},
   "source": [
    "### 불용어 제거"
   ]
  },
  {
   "cell_type": "code",
   "execution_count": 51,
   "metadata": {},
   "outputs": [],
   "source": [
    "def remove_stopwords(sents, stop_word_list):\n",
    "    #  큰 의미가 없는 불용어 정의\n",
    "    stopwords = stop_word_list\n",
    "    preprocessed_text = []\n",
    "    for sent in sents:\n",
    "        sent = [w for w in sent.split(' ') if w not in stopwords]# 불용어 제거\n",
    "        preprocessed_text.append(' '.join(sent))\n",
    "    return preprocessed_text"
   ]
  },
  {
   "cell_type": "markdown",
   "metadata": {},
   "source": [
    "### 최소/최대길이 filterting"
   ]
  },
  {
   "cell_type": "code",
   "execution_count": 52,
   "metadata": {},
   "outputs": [],
   "source": [
    "def min_max_filter(texts,min_len = 2, max_len = 500):\n",
    "    \"\"\"\n",
    "    문장을 최대, 최소 길이로 필터링합니다.\n",
    "    \"\"\"\n",
    "    preprocessed_text = []\n",
    "    for text in texts:\n",
    "        if min_len < len(text) and len(text) < max_len:\n",
    "            preprocessed_text.append(text)\n",
    "    return preprocessed_text"
   ]
  },
  {
   "cell_type": "code",
   "execution_count": 53,
   "metadata": {},
   "outputs": [],
   "source": [
    "def run_preprocess(context):\n",
    "\n",
    "    #불필요한 괄호제거\n",
    "    context = remove_useless_breacket(context)\n",
    "    #문장부호제거\n",
    "    context = clean_punc(context)\n",
    "    #연속공백제거\n",
    "    context = remove_repeated_spacing(context)\n",
    "    #연속 띄어쓰기 제거\n",
    "    #context = spacing_sent(context)\n",
    "    #불용어 제거\n",
    "    stop_word_list = ['']\n",
    "    context = remove_stopwords(context, stop_word_list)\n",
    "    #최소최대길이 제한\n",
    "    context = min_max_filter(context)\n",
    "\n",
    "    #and many more...\n",
    "\n",
    "    preprocessed_context = context\n",
    "    return preprocessed_context"
   ]
  },
  {
   "cell_type": "code",
   "execution_count": 54,
   "metadata": {},
   "outputs": [
    {
     "name": "stdout",
     "output_type": "stream",
     "text": [
      "['〈Something〉는 조지 해리슨이 쓰고 비틀즈가 1969년 앨범 《Abbey Road》에 담은 노래다.', '호남이 기반인 바른미래당·대안신당·민주평화당이 우여곡절 끝에 합당해 민생당(가칭)으로 재탄생한다.', 'K리그2에서 성적 1위를 달리고 있는 광주FC는 지난 26일 한국프로축구연맹으로부터 관중 유치 성과와 마케팅 성과를 인정받아 ‘풀 스타디움상’과 ‘플러스 스타디움상’을 수상했다.', '균일가 생활용품점 (주)아성다이소(대표 박정부)는 코로나19 바이러스로 어려움을 겪고 있는 대구광역시에 행복박스를 전달했다고 10일 밝혔다.', '1967년 프로 야구 드래프트 1순위로 요미우리 자이언츠에게 입단하면서 등번호는 8번으로 배정되었다.']\n",
      "['〈Something〉는 조지 해리슨이 쓰고 비틀즈가 1969년 앨범 《Abbey Road》에 담은 노래다.', '호남이 기반인 바른미래당·대안신당·민주평화당이 우여곡절 끝에 합당해 민생당(가칭)으로 재탄생한다.', \"K리그2에서 성적 1위를 달리고 있는 광주FC는 지난 26일 한국프로축구연맹으로부터 관중 유치 성과와 마케팅 성과를 인정받아 '풀 스타디움상'과 '플러스 스타디움상'을 수상했다.\", '균일가 생활용품점 (주)아성다이소(대표 박정부)는 코로나19 바이러스로 어려움을 겪고 있는 대구광역시에 행복박스를 전달했다고 10일 밝혔다.', '1967년 프로 야구 드래프트 1순위로 요미우리 자이언츠에게 입단하면서 등번호는 8번으로 배정되었다.']\n"
     ]
    }
   ],
   "source": [
    "print(sample_context)\n",
    "print(run_preprocess(sample_context))"
   ]
  },
  {
   "cell_type": "code",
   "execution_count": null,
   "metadata": {},
   "outputs": [],
   "source": []
  }
 ],
 "metadata": {
  "interpreter": {
   "hash": "d4d1e4263499bec80672ea0156c357c1ee493ec2b1c70f0acce89fc37c4a6abe"
  },
  "kernelspec": {
   "display_name": "Python 3.8.5 ('base')",
   "language": "python",
   "name": "python3"
  },
  "language_info": {
   "codemirror_mode": {
    "name": "ipython",
    "version": 3
   },
   "file_extension": ".py",
   "mimetype": "text/x-python",
   "name": "python",
   "nbconvert_exporter": "python",
   "pygments_lexer": "ipython3",
   "version": "3.8.5"
  },
  "orig_nbformat": 4
 },
 "nbformat": 4,
 "nbformat_minor": 2
}
