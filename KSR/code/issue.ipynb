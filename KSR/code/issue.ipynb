{
 "cells": [
  {
   "cell_type": "code",
   "execution_count": 42,
   "metadata": {},
   "outputs": [],
   "source": [
    "import pandas as pd\n",
    "from tqdm import tqdm\n",
    "tqdm.pandas()\n",
    "\n",
    "select_language = 'ja' # 'ja'\n",
    "\n",
    "train_dir = f'/opt/ml/KSR/dataset/train/{select_language}_all_train.csv'\n",
    "train_df = pd.read_csv(train_dir)\n"
   ]
  },
  {
   "cell_type": "code",
   "execution_count": 43,
   "metadata": {},
   "outputs": [
    {
     "name": "stdout",
     "output_type": "stream",
     "text": [
      "<class 'pandas.core.frame.DataFrame'>\n",
      "RangeIndex: 32470 entries, 0 to 32469\n",
      "Data columns (total 7 columns):\n",
      " #   Column             Non-Null Count  Dtype \n",
      "---  ------             --------------  ----- \n",
      " 0   id                 32470 non-null  int64 \n",
      " 1   sentence           32470 non-null  object\n",
      " 2   subject_entity     32470 non-null  object\n",
      " 3   object_entity      32470 non-null  object\n",
      " 4   label              32470 non-null  object\n",
      " 5   source             32470 non-null  object\n",
      " 6   ja_trans_sentence  32470 non-null  object\n",
      "dtypes: int64(1), object(6)\n",
      "memory usage: 1.7+ MB\n"
     ]
    }
   ],
   "source": [
    "train_df.info()"
   ]
  },
  {
   "cell_type": "code",
   "execution_count": 44,
   "metadata": {},
   "outputs": [],
   "source": [
    "def edit_error(raw, word, miss):\n",
    "    text = raw.replace(miss, word)\n",
    "    return text"
   ]
  },
  {
   "cell_type": "code",
   "execution_count": 45,
   "metadata": {},
   "outputs": [
    {
     "name": "stdout",
     "output_type": "stream",
     "text": [
      "_M_A_S_K_1 잘못된 라벨링 : \n"
     ]
    },
    {
     "name": "stderr",
     "output_type": "stream",
     "text": [
      "100%|██████████| 32470/32470 [00:01<00:00, 23247.49it/s]\n"
     ]
    },
    {
     "name": "stdout",
     "output_type": "stream",
     "text": [
      "M_A_S_K_1 잘못된 라벨링 : \n"
     ]
    },
    {
     "name": "stderr",
     "output_type": "stream",
     "text": [
      "100%|██████████| 32470/32470 [00:01<00:00, 27078.39it/s]\n"
     ]
    },
    {
     "name": "stdout",
     "output_type": "stream",
     "text": [
      "M_A_S_K_1_ 잘못된 라벨링 : \n"
     ]
    },
    {
     "name": "stderr",
     "output_type": "stream",
     "text": [
      "100%|██████████| 32470/32470 [00:01<00:00, 27499.62it/s]\n"
     ]
    },
    {
     "name": "stdout",
     "output_type": "stream",
     "text": [
      "_m_a_s_k_1 잘못된 라벨링 : \n"
     ]
    },
    {
     "name": "stderr",
     "output_type": "stream",
     "text": [
      "100%|██████████| 32470/32470 [00:01<00:00, 27452.63it/s]\n"
     ]
    },
    {
     "name": "stdout",
     "output_type": "stream",
     "text": [
      "m_a_s_k_1 잘못된 라벨링 : \n"
     ]
    },
    {
     "name": "stderr",
     "output_type": "stream",
     "text": [
      "100%|██████████| 32470/32470 [00:01<00:00, 24174.20it/s]\n"
     ]
    },
    {
     "name": "stdout",
     "output_type": "stream",
     "text": [
      "m_a_s_k_1_ 잘못된 라벨링 : \n"
     ]
    },
    {
     "name": "stderr",
     "output_type": "stream",
     "text": [
      "100%|██████████| 32470/32470 [00:01<00:00, 26076.05it/s]\n"
     ]
    },
    {
     "name": "stdout",
     "output_type": "stream",
     "text": [
      "_M_A_S_K_2 잘못된 라벨링 : \n"
     ]
    },
    {
     "name": "stderr",
     "output_type": "stream",
     "text": [
      "100%|██████████| 32470/32470 [00:01<00:00, 27047.48it/s]\n"
     ]
    },
    {
     "name": "stdout",
     "output_type": "stream",
     "text": [
      "M_A_S_K_2 잘못된 라벨링 : \n"
     ]
    },
    {
     "name": "stderr",
     "output_type": "stream",
     "text": [
      "100%|██████████| 32470/32470 [00:01<00:00, 23686.58it/s]\n"
     ]
    },
    {
     "name": "stdout",
     "output_type": "stream",
     "text": [
      "M_A_S_K_2_ 잘못된 라벨링 : \n"
     ]
    },
    {
     "name": "stderr",
     "output_type": "stream",
     "text": [
      "100%|██████████| 32470/32470 [00:01<00:00, 26937.36it/s]\n"
     ]
    },
    {
     "name": "stdout",
     "output_type": "stream",
     "text": [
      "_m_a_s_k_2 잘못된 라벨링 : \n"
     ]
    },
    {
     "name": "stderr",
     "output_type": "stream",
     "text": [
      "100%|██████████| 32470/32470 [00:01<00:00, 27056.84it/s]\n"
     ]
    },
    {
     "name": "stdout",
     "output_type": "stream",
     "text": [
      "m_a_s_k_2 잘못된 라벨링 : \n"
     ]
    },
    {
     "name": "stderr",
     "output_type": "stream",
     "text": [
      "100%|██████████| 32470/32470 [00:01<00:00, 27034.07it/s]\n"
     ]
    },
    {
     "name": "stdout",
     "output_type": "stream",
     "text": [
      "m_a_s_k_2_ 잘못된 라벨링 : \n"
     ]
    },
    {
     "name": "stderr",
     "output_type": "stream",
     "text": [
      "100%|██████████| 32470/32470 [00:01<00:00, 24065.83it/s]\n"
     ]
    }
   ],
   "source": [
    "\n",
    "#mask_symbol1 = '_M_A_S_K_1_'\n",
    "#mask_symbol2 = '_M_A_S_K_2_'\n",
    "\n",
    "miss_label_mask1 = ['_M_A_S_K_1', 'M_A_S_K_1', 'M_A_S_K_1_','_m_a_s_k_1', 'm_a_s_k_1', 'm_a_s_k_1_']\n",
    "miss_label_mask2 = ['_M_A_S_K_2', 'M_A_S_K_2', 'M_A_S_K_2_','_m_a_s_k_2', 'm_a_s_k_2', 'm_a_s_k_2_']\n",
    "\n",
    "for miss in miss_label_mask1:\n",
    "    print(miss, \"잘못된 라벨링 : \")\n",
    "    train_df[f'{select_language}_trans_sentence'] = train_df.progress_apply(lambda row :\n",
    "        edit_error(row[f'{select_language}_trans_sentence'], eval(row.subject_entity)['word'],\n",
    "        miss), axis=1)   \n",
    "\n",
    "for miss in miss_label_mask2:\n",
    "    print(miss, \"잘못된 라벨링 : \")\n",
    "    train_df[f'{select_language}_trans_sentence'] = train_df.progress_apply(lambda row :\n",
    "        edit_error(row[f'{select_language}_trans_sentence'], eval(row.object_entity)['word'],\n",
    "        miss), axis=1)   \n",
    "\n"
   ]
  },
  {
   "cell_type": "code",
   "execution_count": 46,
   "metadata": {},
   "outputs": [],
   "source": [
    "train_df.to_csv(f\"/opt/ml/KSR/dataset/train/new_{select_language}_train.csv\", index=False)"
   ]
  },
  {
   "cell_type": "code",
   "execution_count": null,
   "metadata": {},
   "outputs": [],
   "source": []
  }
 ],
 "metadata": {
  "interpreter": {
   "hash": "d4d1e4263499bec80672ea0156c357c1ee493ec2b1c70f0acce89fc37c4a6abe"
  },
  "kernelspec": {
   "display_name": "Python 3.8.5 ('base')",
   "language": "python",
   "name": "python3"
  },
  "language_info": {
   "codemirror_mode": {
    "name": "ipython",
    "version": 3
   },
   "file_extension": ".py",
   "mimetype": "text/x-python",
   "name": "python",
   "nbconvert_exporter": "python",
   "pygments_lexer": "ipython3",
   "version": "3.8.12"
  },
  "orig_nbformat": 4
 },
 "nbformat": 4,
 "nbformat_minor": 2
}
