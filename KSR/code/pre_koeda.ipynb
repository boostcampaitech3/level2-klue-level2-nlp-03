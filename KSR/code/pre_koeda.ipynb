{
 "cells": [
  {
   "cell_type": "markdown",
   "metadata": {},
   "source": [
    "## EDA(Easy Data Augmentation) and AEDA"
   ]
  },
  {
   "cell_type": "code",
   "execution_count": 5,
   "metadata": {},
   "outputs": [
    {
     "name": "stdout",
     "output_type": "stream",
     "text": [
      "아버지가 방에 응접실 들어가신다\n",
      "['에 들어가신다', '방 들어가신다에아버지가']\n"
     ]
    }
   ],
   "source": [
    "from koeda import EDA\n",
    "\n",
    "\n",
    "eda = EDA(\n",
    "    morpheme_analyzer=\"Okt\", alpha_sr=0.3, alpha_ri=0.3, alpha_rs=0.3, prob_rd=0.3\n",
    ")\n",
    "\n",
    "text = \"아버지가 방에 들어가신다\"\n",
    "\n",
    "result = eda(text)\n",
    "print(result)\n",
    "# 아버지가 정실에 들어가신다\n",
    "\n",
    "result = eda(text, p=(0.9, 0.9, 0.9, 0.9), repetition=2)\n",
    "print(result)"
   ]
  },
  {
   "cell_type": "code",
   "execution_count": null,
   "metadata": {},
   "outputs": [],
   "source": [
    "from koeda import AEDA\n",
    "\n",
    "\n",
    "aeda = AEDA(\n",
    "    morpheme_analyzer=\"Okt\", punc_ratio=0.3, punctuations=[\".\", \",\", \"!\", \"?\", \";\", \":\"]\n",
    ")\n",
    "\n",
    "text = \"어머니가 집을 나가신다\"\n",
    "\n",
    "result = aeda(text)\n",
    "print(result)\n",
    "# 어머니가 ! 집을 , 나가신다\n",
    "\n",
    "result = aeda(text, p=0.9, repetition=2)\n",
    "print(result)"
   ]
  },
  {
   "cell_type": "code",
   "execution_count": 4,
   "metadata": {},
   "outputs": [
    {
     "name": "stderr",
     "output_type": "stream",
     "text": [
      "\n",
      "KeyboardInterrupt\n",
      "\n"
     ]
    }
   ],
   "source": [
    "import re\n",
    "\n",
    "def entity_masking(train_df : pd.DataFrame):\n",
    "    train_df_entity_masked = pd.DataFrame(columns = ['id' , 'sentence', 'subject_entity', 'object_entity', 'label', 'source'])\n",
    "\n",
    "    for i, data in enumerate(train_df.iloc):\n",
    "        data_dict = dict(data)\n",
    "        i_d, sentence, subj, obj, label, source = data_dict.values()\n",
    "        #print(i_d, sentence, subj, obj, label, source)\n",
    "\n",
    "        # sentence에서 entity 찾아서 subj, obj로 교체 -> 위치 기반으로 변경\n",
    "        subj_s, subj_e = eval(subj)['start_idx'], eval(subj)['end_idx']\n",
    "        obj_s, obj_e = eval(obj)['start_idx'], eval(obj)['end_idx']\n",
    "        \n",
    "        sentence = list(sentence)\n",
    "        \n",
    "        # subj와 obj가 완전 동일한 위치에 있는 건 없는 것으로 사전에 확인 완료\n",
    "        if subj_s < obj_s : \n",
    "            sentence = sentence[:subj_s] + list('S_U_B_J') + sentence[subj_e+1:obj_s]+ list('O_B_J') + sentence[obj_e+1:]\n",
    "        else : \n",
    "            sentence = sentence[:obj_s] + list('O_B_J') + sentence[obj_e+1:subj_s]+ list('S_U_B_J') + sentence[subj_e+1:]\n",
    "        sentence = ''.join(sentence)\n",
    "        \n",
    "        train_df_entity_masked.loc[i] = [i_d, sentence, subj, obj, label, source]\n",
    "        #print(train_df_entity_masked)\n",
    "        return train_df_entity_masked"
   ]
  },
  {
   "cell_type": "code",
   "execution_count": null,
   "metadata": {},
   "outputs": [],
   "source": []
  }
 ],
 "metadata": {
  "interpreter": {
   "hash": "d4d1e4263499bec80672ea0156c357c1ee493ec2b1c70f0acce89fc37c4a6abe"
  },
  "kernelspec": {
   "display_name": "Python 3.8.5 ('base')",
   "language": "python",
   "name": "python3"
  },
  "language_info": {
   "codemirror_mode": {
    "name": "ipython",
    "version": 3
   },
   "file_extension": ".py",
   "mimetype": "text/x-python",
   "name": "python",
   "nbconvert_exporter": "python",
   "pygments_lexer": "ipython3",
   "version": "3.8.12"
  },
  "orig_nbformat": 4
 },
 "nbformat": 4,
 "nbformat_minor": 2
}
